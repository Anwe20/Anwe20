{
  "cells": [
    {
      "cell_type": "code",
      "execution_count": null,
      "id": "ef1fea1c",
      "metadata": {
        "id": "ef1fea1c"
      },
      "outputs": [],
      "source": [
        "#import necessary libraries\n",
        "\n",
        "import numpy as np\n",
        "import pandas as pd\n",
        "import seaborn as sns\n",
        "import matplotlib.pyplot as plt\n"
      ]
    },
    {
      "cell_type": "code",
      "execution_count": null,
      "id": "e1494d54",
      "metadata": {
        "id": "e1494d54",
        "outputId": "5e30184e-7f4b-443d-d063-a923ea75f460"
      },
      "outputs": [
        {
          "name": "stderr",
          "output_type": "stream",
          "text": [
            "C:\\Users\\Anwesha Mishra\\AppData\\Local\\Temp\\ipykernel_31108\\3249914595.py:2: DtypeWarning: Columns (135,204,274,417) have mixed types. Specify dtype option on import or set low_memory=False.\n",
            "  data_loan_train=pd.read_csv(\"C:/Users/Anwesha Mishra/Downloads/Loan_data/Loan_data/train_v2.csv/train_v2.csv\")\n",
            "C:\\Users\\Anwesha Mishra\\AppData\\Local\\Temp\\ipykernel_31108\\3249914595.py:3: DtypeWarning: Columns (417) have mixed types. Specify dtype option on import or set low_memory=False.\n",
            "  data_loan_test=pd.read_csv(\"C:/Users/Anwesha Mishra/Downloads/Loan_data/Loan_data/test_v2.csv/test_v2.csv\")\n"
          ]
        }
      ],
      "source": [
        "#load datasets\n",
        "data_loan_train=pd.read_csv(\"C:/Users/Anwesha Mishra/Downloads/Loan_data/Loan_data/train_v2.csv/train_v2.csv\")\n",
        "data_loan_test=pd.read_csv(\"C:/Users/Anwesha Mishra/Downloads/Loan_data/Loan_data/test_v2.csv/test_v2.csv\")"
      ]
    },
    {
      "cell_type": "code",
      "execution_count": null,
      "id": "38823f33",
      "metadata": {
        "id": "38823f33",
        "outputId": "a6b20897-447c-40eb-c254-ad67301a97ce"
      },
      "outputs": [
        {
          "data": {
            "text/html": [
              "<div>\n",
              "<style scoped>\n",
              "    .dataframe tbody tr th:only-of-type {\n",
              "        vertical-align: middle;\n",
              "    }\n",
              "\n",
              "    .dataframe tbody tr th {\n",
              "        vertical-align: top;\n",
              "    }\n",
              "\n",
              "    .dataframe thead th {\n",
              "        text-align: right;\n",
              "    }\n",
              "</style>\n",
              "<table border=\"1\" class=\"dataframe\">\n",
              "  <thead>\n",
              "    <tr style=\"text-align: right;\">\n",
              "      <th></th>\n",
              "      <th>id</th>\n",
              "      <th>f1</th>\n",
              "      <th>f2</th>\n",
              "      <th>f3</th>\n",
              "      <th>f4</th>\n",
              "      <th>f5</th>\n",
              "      <th>f6</th>\n",
              "      <th>f7</th>\n",
              "      <th>f8</th>\n",
              "      <th>f9</th>\n",
              "      <th>...</th>\n",
              "      <th>f770</th>\n",
              "      <th>f771</th>\n",
              "      <th>f772</th>\n",
              "      <th>f773</th>\n",
              "      <th>f774</th>\n",
              "      <th>f775</th>\n",
              "      <th>f776</th>\n",
              "      <th>f777</th>\n",
              "      <th>f778</th>\n",
              "      <th>loss</th>\n",
              "    </tr>\n",
              "  </thead>\n",
              "  <tbody>\n",
              "    <tr>\n",
              "      <th>0</th>\n",
              "      <td>1</td>\n",
              "      <td>126</td>\n",
              "      <td>10</td>\n",
              "      <td>0.686842</td>\n",
              "      <td>1100</td>\n",
              "      <td>3</td>\n",
              "      <td>13699</td>\n",
              "      <td>7201.0</td>\n",
              "      <td>4949.0</td>\n",
              "      <td>126.75</td>\n",
              "      <td>...</td>\n",
              "      <td>5</td>\n",
              "      <td>2.14</td>\n",
              "      <td>-1.54</td>\n",
              "      <td>1.18</td>\n",
              "      <td>0.1833</td>\n",
              "      <td>0.7873</td>\n",
              "      <td>1</td>\n",
              "      <td>0</td>\n",
              "      <td>5</td>\n",
              "      <td>0</td>\n",
              "    </tr>\n",
              "    <tr>\n",
              "      <th>1</th>\n",
              "      <td>2</td>\n",
              "      <td>121</td>\n",
              "      <td>10</td>\n",
              "      <td>0.782776</td>\n",
              "      <td>1100</td>\n",
              "      <td>3</td>\n",
              "      <td>84645</td>\n",
              "      <td>240.0</td>\n",
              "      <td>1625.0</td>\n",
              "      <td>123.52</td>\n",
              "      <td>...</td>\n",
              "      <td>6</td>\n",
              "      <td>0.54</td>\n",
              "      <td>-0.24</td>\n",
              "      <td>0.13</td>\n",
              "      <td>0.1926</td>\n",
              "      <td>-0.6787</td>\n",
              "      <td>1</td>\n",
              "      <td>0</td>\n",
              "      <td>5</td>\n",
              "      <td>0</td>\n",
              "    </tr>\n",
              "    <tr>\n",
              "      <th>2</th>\n",
              "      <td>3</td>\n",
              "      <td>126</td>\n",
              "      <td>10</td>\n",
              "      <td>0.500080</td>\n",
              "      <td>1100</td>\n",
              "      <td>3</td>\n",
              "      <td>83607</td>\n",
              "      <td>1800.0</td>\n",
              "      <td>1527.0</td>\n",
              "      <td>127.76</td>\n",
              "      <td>...</td>\n",
              "      <td>13</td>\n",
              "      <td>2.89</td>\n",
              "      <td>-1.73</td>\n",
              "      <td>1.04</td>\n",
              "      <td>0.2521</td>\n",
              "      <td>0.7258</td>\n",
              "      <td>1</td>\n",
              "      <td>0</td>\n",
              "      <td>5</td>\n",
              "      <td>0</td>\n",
              "    </tr>\n",
              "    <tr>\n",
              "      <th>3</th>\n",
              "      <td>4</td>\n",
              "      <td>134</td>\n",
              "      <td>10</td>\n",
              "      <td>0.439874</td>\n",
              "      <td>1100</td>\n",
              "      <td>3</td>\n",
              "      <td>82642</td>\n",
              "      <td>7542.0</td>\n",
              "      <td>1730.0</td>\n",
              "      <td>132.94</td>\n",
              "      <td>...</td>\n",
              "      <td>4</td>\n",
              "      <td>1.29</td>\n",
              "      <td>-0.89</td>\n",
              "      <td>0.66</td>\n",
              "      <td>0.2498</td>\n",
              "      <td>0.7119</td>\n",
              "      <td>1</td>\n",
              "      <td>0</td>\n",
              "      <td>5</td>\n",
              "      <td>0</td>\n",
              "    </tr>\n",
              "    <tr>\n",
              "      <th>4</th>\n",
              "      <td>5</td>\n",
              "      <td>109</td>\n",
              "      <td>9</td>\n",
              "      <td>0.502749</td>\n",
              "      <td>2900</td>\n",
              "      <td>4</td>\n",
              "      <td>79124</td>\n",
              "      <td>89.0</td>\n",
              "      <td>491.0</td>\n",
              "      <td>122.72</td>\n",
              "      <td>...</td>\n",
              "      <td>26</td>\n",
              "      <td>6.11</td>\n",
              "      <td>-3.82</td>\n",
              "      <td>2.51</td>\n",
              "      <td>0.2282</td>\n",
              "      <td>-0.5399</td>\n",
              "      <td>0</td>\n",
              "      <td>0</td>\n",
              "      <td>5</td>\n",
              "      <td>0</td>\n",
              "    </tr>\n",
              "  </tbody>\n",
              "</table>\n",
              "<p>5 rows × 771 columns</p>\n",
              "</div>"
            ],
            "text/plain": [
              "   id   f1  f2        f3    f4  f5     f6      f7      f8      f9  ...  f770  \\\n",
              "0   1  126  10  0.686842  1100   3  13699  7201.0  4949.0  126.75  ...     5   \n",
              "1   2  121  10  0.782776  1100   3  84645   240.0  1625.0  123.52  ...     6   \n",
              "2   3  126  10  0.500080  1100   3  83607  1800.0  1527.0  127.76  ...    13   \n",
              "3   4  134  10  0.439874  1100   3  82642  7542.0  1730.0  132.94  ...     4   \n",
              "4   5  109   9  0.502749  2900   4  79124    89.0   491.0  122.72  ...    26   \n",
              "\n",
              "   f771  f772  f773    f774    f775  f776  f777  f778  loss  \n",
              "0  2.14 -1.54  1.18  0.1833  0.7873     1     0     5     0  \n",
              "1  0.54 -0.24  0.13  0.1926 -0.6787     1     0     5     0  \n",
              "2  2.89 -1.73  1.04  0.2521  0.7258     1     0     5     0  \n",
              "3  1.29 -0.89  0.66  0.2498  0.7119     1     0     5     0  \n",
              "4  6.11 -3.82  2.51  0.2282 -0.5399     0     0     5     0  \n",
              "\n",
              "[5 rows x 771 columns]"
            ]
          },
          "execution_count": 4,
          "metadata": {},
          "output_type": "execute_result"
        }
      ],
      "source": [
        "#f776=loan or not, #f777=fraud or not (the loan can be fraud), these numbers are a result of machine learning technique in order to protect financial information of customers\n",
        "\n",
        "data_loan_train.head()"
      ]
    },
    {
      "cell_type": "code",
      "execution_count": null,
      "id": "4d6c266f",
      "metadata": {
        "id": "4d6c266f",
        "outputId": "9a0fc2c5-1268-483b-8803-8c119c3c6722"
      },
      "outputs": [
        {
          "data": {
            "text/html": [
              "<div>\n",
              "<style scoped>\n",
              "    .dataframe tbody tr th:only-of-type {\n",
              "        vertical-align: middle;\n",
              "    }\n",
              "\n",
              "    .dataframe tbody tr th {\n",
              "        vertical-align: top;\n",
              "    }\n",
              "\n",
              "    .dataframe thead th {\n",
              "        text-align: right;\n",
              "    }\n",
              "</style>\n",
              "<table border=\"1\" class=\"dataframe\">\n",
              "  <thead>\n",
              "    <tr style=\"text-align: right;\">\n",
              "      <th></th>\n",
              "      <th>id</th>\n",
              "      <th>f1</th>\n",
              "      <th>f2</th>\n",
              "      <th>f3</th>\n",
              "      <th>f4</th>\n",
              "      <th>f5</th>\n",
              "      <th>f6</th>\n",
              "      <th>f7</th>\n",
              "      <th>f8</th>\n",
              "      <th>f9</th>\n",
              "      <th>...</th>\n",
              "      <th>f769</th>\n",
              "      <th>f770</th>\n",
              "      <th>f771</th>\n",
              "      <th>f772</th>\n",
              "      <th>f773</th>\n",
              "      <th>f774</th>\n",
              "      <th>f775</th>\n",
              "      <th>f776</th>\n",
              "      <th>f777</th>\n",
              "      <th>f778</th>\n",
              "    </tr>\n",
              "  </thead>\n",
              "  <tbody>\n",
              "    <tr>\n",
              "      <th>0</th>\n",
              "      <td>105472</td>\n",
              "      <td>147</td>\n",
              "      <td>6</td>\n",
              "      <td>0.487058</td>\n",
              "      <td>1100</td>\n",
              "      <td>17.0</td>\n",
              "      <td>75506</td>\n",
              "      <td>964.0</td>\n",
              "      <td>12686.0</td>\n",
              "      <td>152.63</td>\n",
              "      <td>...</td>\n",
              "      <td>-8.71</td>\n",
              "      <td>19</td>\n",
              "      <td>3.30</td>\n",
              "      <td>-9.37</td>\n",
              "      <td>0.50</td>\n",
              "      <td>0.0539</td>\n",
              "      <td>-1.0733</td>\n",
              "      <td>0</td>\n",
              "      <td>1</td>\n",
              "      <td>1079</td>\n",
              "    </tr>\n",
              "    <tr>\n",
              "      <th>1</th>\n",
              "      <td>105473</td>\n",
              "      <td>156</td>\n",
              "      <td>6</td>\n",
              "      <td>0.728518</td>\n",
              "      <td>5400</td>\n",
              "      <td>3.0</td>\n",
              "      <td>79754</td>\n",
              "      <td>1455.0</td>\n",
              "      <td>4803.0</td>\n",
              "      <td>153.95</td>\n",
              "      <td>...</td>\n",
              "      <td>-13.26</td>\n",
              "      <td>24</td>\n",
              "      <td>9.53</td>\n",
              "      <td>-7.55</td>\n",
              "      <td>6.22</td>\n",
              "      <td>0.3030</td>\n",
              "      <td>0.6087</td>\n",
              "      <td>0</td>\n",
              "      <td>1</td>\n",
              "      <td>36</td>\n",
              "    </tr>\n",
              "    <tr>\n",
              "      <th>2</th>\n",
              "      <td>105474</td>\n",
              "      <td>132</td>\n",
              "      <td>9</td>\n",
              "      <td>0.898133</td>\n",
              "      <td>2200</td>\n",
              "      <td>16.0</td>\n",
              "      <td>113</td>\n",
              "      <td>5735.0</td>\n",
              "      <td>2387.0</td>\n",
              "      <td>130.61</td>\n",
              "      <td>...</td>\n",
              "      <td>-4.99</td>\n",
              "      <td>9</td>\n",
              "      <td>3.25</td>\n",
              "      <td>-2.33</td>\n",
              "      <td>1.69</td>\n",
              "      <td>0.2317</td>\n",
              "      <td>0.4184</td>\n",
              "      <td>0</td>\n",
              "      <td>0</td>\n",
              "      <td>393</td>\n",
              "    </tr>\n",
              "    <tr>\n",
              "      <th>3</th>\n",
              "      <td>105475</td>\n",
              "      <td>128</td>\n",
              "      <td>7</td>\n",
              "      <td>0.038411</td>\n",
              "      <td>1300</td>\n",
              "      <td>4.0</td>\n",
              "      <td>3793</td>\n",
              "      <td>4689.0</td>\n",
              "      <td>3469.0</td>\n",
              "      <td>120.50</td>\n",
              "      <td>...</td>\n",
              "      <td>-16.83</td>\n",
              "      <td>11</td>\n",
              "      <td>0.26</td>\n",
              "      <td>-5.31</td>\n",
              "      <td>0.78</td>\n",
              "      <td>0.2826</td>\n",
              "      <td>-0.7711</td>\n",
              "      <td>0</td>\n",
              "      <td>0</td>\n",
              "      <td>394</td>\n",
              "    </tr>\n",
              "    <tr>\n",
              "      <th>4</th>\n",
              "      <td>105476</td>\n",
              "      <td>119</td>\n",
              "      <td>10</td>\n",
              "      <td>0.443620</td>\n",
              "      <td>1300</td>\n",
              "      <td>16.0</td>\n",
              "      <td>13026</td>\n",
              "      <td>2788.0</td>\n",
              "      <td>7438.0</td>\n",
              "      <td>127.00</td>\n",
              "      <td>...</td>\n",
              "      <td>-20.00</td>\n",
              "      <td>10</td>\n",
              "      <td>13.55</td>\n",
              "      <td>-0.61</td>\n",
              "      <td>0.01</td>\n",
              "      <td>0.1815</td>\n",
              "      <td>-1.0843</td>\n",
              "      <td>0</td>\n",
              "      <td>0</td>\n",
              "      <td>23</td>\n",
              "    </tr>\n",
              "  </tbody>\n",
              "</table>\n",
              "<p>5 rows × 770 columns</p>\n",
              "</div>"
            ],
            "text/plain": [
              "       id   f1  f2        f3    f4    f5     f6      f7       f8      f9  ...  \\\n",
              "0  105472  147   6  0.487058  1100  17.0  75506   964.0  12686.0  152.63  ...   \n",
              "1  105473  156   6  0.728518  5400   3.0  79754  1455.0   4803.0  153.95  ...   \n",
              "2  105474  132   9  0.898133  2200  16.0    113  5735.0   2387.0  130.61  ...   \n",
              "3  105475  128   7  0.038411  1300   4.0   3793  4689.0   3469.0  120.50  ...   \n",
              "4  105476  119  10  0.443620  1300  16.0  13026  2788.0   7438.0  127.00  ...   \n",
              "\n",
              "    f769  f770   f771  f772  f773    f774    f775  f776  f777  f778  \n",
              "0  -8.71    19   3.30 -9.37  0.50  0.0539 -1.0733     0     1  1079  \n",
              "1 -13.26    24   9.53 -7.55  6.22  0.3030  0.6087     0     1    36  \n",
              "2  -4.99     9   3.25 -2.33  1.69  0.2317  0.4184     0     0   393  \n",
              "3 -16.83    11   0.26 -5.31  0.78  0.2826 -0.7711     0     0   394  \n",
              "4 -20.00    10  13.55 -0.61  0.01  0.1815 -1.0843     0     0    23  \n",
              "\n",
              "[5 rows x 770 columns]"
            ]
          },
          "execution_count": 5,
          "metadata": {},
          "output_type": "execute_result"
        }
      ],
      "source": [
        "data_loan_test.head()"
      ]
    },
    {
      "cell_type": "code",
      "execution_count": null,
      "id": "4bd2fa87",
      "metadata": {
        "id": "4bd2fa87",
        "outputId": "5cc4530f-7262-4b73-92f6-f829c22aa479"
      },
      "outputs": [
        {
          "data": {
            "text/plain": [
              "id         0\n",
              "f1         0\n",
              "f2         0\n",
              "f3         0\n",
              "f4         0\n",
              "        ... \n",
              "f775    1525\n",
              "f776       0\n",
              "f777       0\n",
              "f778       0\n",
              "loss       0\n",
              "Length: 771, dtype: int64"
            ]
          },
          "execution_count": 6,
          "metadata": {},
          "output_type": "execute_result"
        }
      ],
      "source": [
        "#check for missing values\n",
        "data_loan_train.isnull().sum()"
      ]
    },
    {
      "cell_type": "code",
      "execution_count": null,
      "id": "f41851df",
      "metadata": {
        "id": "f41851df",
        "outputId": "6bd50133-0b45-4afa-917f-9397fe9e767c"
      },
      "outputs": [
        {
          "data": {
            "text/plain": [
              "id         0\n",
              "f1         0\n",
              "f2         0\n",
              "f3         0\n",
              "f4         0\n",
              "        ... \n",
              "f774    2066\n",
              "f775    2960\n",
              "f776       0\n",
              "f777       0\n",
              "f778       0\n",
              "Length: 770, dtype: int64"
            ]
          },
          "execution_count": 7,
          "metadata": {},
          "output_type": "execute_result"
        }
      ],
      "source": [
        "data_loan_test.isnull().sum()"
      ]
    },
    {
      "cell_type": "code",
      "execution_count": null,
      "id": "21d57825",
      "metadata": {
        "id": "21d57825"
      },
      "outputs": [],
      "source": [
        "#drop missing values\n",
        "data_loan_tr=data_loan_train.dropna()\n",
        "data_loan_te=data_loan_test.dropna()"
      ]
    },
    {
      "cell_type": "code",
      "execution_count": null,
      "id": "38413488",
      "metadata": {
        "id": "38413488",
        "outputId": "981692cd-3f3b-40c8-f6fd-5c8f266565e0"
      },
      "outputs": [
        {
          "data": {
            "text/plain": [
              "id      0\n",
              "f1      0\n",
              "f2      0\n",
              "f3      0\n",
              "f4      0\n",
              "       ..\n",
              "f775    0\n",
              "f776    0\n",
              "f777    0\n",
              "f778    0\n",
              "loss    0\n",
              "Length: 771, dtype: int64"
            ]
          },
          "execution_count": 9,
          "metadata": {},
          "output_type": "execute_result"
        }
      ],
      "source": [
        "data_loan_tr.isnull().sum()"
      ]
    },
    {
      "cell_type": "code",
      "execution_count": null,
      "id": "a188ec52",
      "metadata": {
        "id": "a188ec52",
        "outputId": "f2fa82f8-9e7c-4ab7-c452-53d1332491db"
      },
      "outputs": [
        {
          "data": {
            "text/plain": [
              "id      0\n",
              "f1      0\n",
              "f2      0\n",
              "f3      0\n",
              "f4      0\n",
              "       ..\n",
              "f774    0\n",
              "f775    0\n",
              "f776    0\n",
              "f777    0\n",
              "f778    0\n",
              "Length: 770, dtype: int64"
            ]
          },
          "execution_count": 10,
          "metadata": {},
          "output_type": "execute_result"
        }
      ],
      "source": [
        "data_loan_te.isnull().sum()"
      ]
    },
    {
      "cell_type": "code",
      "execution_count": null,
      "id": "4dbe3b3c",
      "metadata": {
        "id": "4dbe3b3c",
        "outputId": "bf77a5d7-58d1-4e5b-c13d-f891f2c0ab5c"
      },
      "outputs": [
        {
          "data": {
            "text/plain": [
              "Text(0.5, 1.0, 'Histogram Showing Loss Distribution')"
            ]
          },
          "execution_count": 10,
          "metadata": {},
          "output_type": "execute_result"
        },
        {
          "data": {
            "image/png": "[encoded data removed]",
            "text/plain": [
              "<Figure size 640x480 with 1 Axes>"
            ]
          },
          "metadata": {},
          "output_type": "display_data"
        }
      ],
      "source": [
        "sns.histplot(data_loan_tr['loss'])\n",
        "plt.title('Histogram Showing Loss Distribution')"
      ]
    },
    {
      "cell_type": "code",
      "execution_count": null,
      "id": "ee2fede7",
      "metadata": {
        "id": "ee2fede7",
        "outputId": "7838d659-f914-4587-ef3d-7efa47c64db1"
      },
      "outputs": [
        {
          "name": "stdout",
          "output_type": "stream",
          "text": [
            "There were 37924 legal transactions (73.02%) and 14016 fraud transactions (26.98%).\n"
          ]
        }
      ],
      "source": [
        "number = data_loan_tr.f777.value_counts()\n",
        "legal = number[0]\n",
        "fraud = number[1]\n",
        "legal_perc = (legal/(legal+fraud))*100\n",
        "fraud_perc = (fraud/(legal+fraud))*100\n",
        "print(\"There were {} legal transactions ({:.2f}%) and {} fraud transactions ({:.2f}%).\".format(legal, legal_perc, fraud, fraud_perc))"
      ]
    },
    {
      "cell_type": "code",
      "execution_count": null,
      "id": "1742dc26",
      "metadata": {
        "id": "1742dc26",
        "outputId": "ae4daf04-ffc6-4d3d-c89c-86bccd06aa0a"
      },
      "outputs": [
        {
          "data": {
            "image/png": "[encoded data removed]",
            "text/plain": [
              "<Figure size 640x480 with 1 Axes>"
            ]
          },
          "metadata": {},
          "output_type": "display_data"
        }
      ],
      "source": [
        "sns.barplot(x=number.index, y=number)\n",
        "plt.title(\"Number of Legal vs. Fraud Transactions\")\n",
        "plt.ylabel(\"Number of transactions\")\n",
        "plt.xlabel(\"Class Variable (0:Legal, 1:Fraud)\")\n",
        "plt.show()"
      ]
    },
    {
      "cell_type": "code",
      "execution_count": null,
      "id": "1e528c09",
      "metadata": {
        "id": "1e528c09",
        "outputId": "d622cb03-ddca-4cda-9270-e4c9d27d305b"
      },
      "outputs": [
        {
          "data": {
            "image/png": "[encoded data removed]",
            "text/plain": [
              "<Figure size 640x480 with 1 Axes>"
            ]
          },
          "metadata": {},
          "output_type": "display_data"
        }
      ],
      "source": [
        "#there are more fraud cases where loans are taken\n",
        "number_loan = data_loan_tr.f776.value_counts()\n",
        "sns.barplot(x=number_loan.index, y=number_loan)\n",
        "plt.title(\"Loans Taken or Not\")\n",
        "plt.ylabel(\"Number of transactions\")\n",
        "plt.xlabel(\"Class Variable (0:Taken, 1:Not Taken)\")\n",
        "plt.show()"
      ]
    },
    {
      "cell_type": "code",
      "execution_count": null,
      "id": "7afbed6d",
      "metadata": {
        "id": "7afbed6d",
        "outputId": "8e73c326-d59b-4762-ebd2-3c3ac6a90116"
      },
      "outputs": [
        {
          "data": {
            "image/png": "[encoded data removed]",
            "text/plain": [
              "<Figure size 640x480 with 1 Axes>"
            ]
          },
          "metadata": {},
          "output_type": "display_data"
        }
      ],
      "source": [
        "plt.scatter(data_loan_tr['id'], data_loan_tr['loss'])\n",
        "plt.xlabel('ID')\n",
        "plt.ylabel('Loss')\n",
        "plt.title('Plot Showing Distribution of Loss with ID')\n",
        "plt.show()"
      ]
    },
    {
      "cell_type": "code",
      "execution_count": null,
      "id": "1ecc4be4",
      "metadata": {
        "id": "1ecc4be4",
        "outputId": "7f2fef89-f49a-4e9c-c15d-0b6100a2a57c"
      },
      "outputs": [
        {
          "name": "stdout",
          "output_type": "stream",
          "text": [
            "Train Number: (51940, 771) \n",
            "Test Number: (54767, 770)\n"
          ]
        }
      ],
      "source": [
        "#train and test shapes\n",
        "print(\"Train Number: \" + str(data_loan_tr.shape) + \" \\nTest Number: \" + str(data_loan_te.shape))\n",
        "data_loan_tr.reset_index(drop=True, inplace=True)\n",
        "data_loan_te.reset_index(drop=True, inplace=True)"
      ]
    },
    {
      "cell_type": "code",
      "execution_count": null,
      "id": "df48d06b",
      "metadata": {
        "id": "df48d06b",
        "outputId": "9da0aa6a-2f9b-47ea-f679-c51d4348a2dd"
      },
      "outputs": [
        {
          "name": "stdout",
          "output_type": "stream",
          "text": [
            "There are 14016 fraud transactions in train data.\n"
          ]
        }
      ],
      "source": [
        "#calculate total fraud values\n",
        "fraud_in_train = data_loan_tr.f777.value_counts()[1]\n",
        "print(\"There are \" + str(fraud_in_train) + \" fraud transactions in train data.\")\n"
      ]
    },
    {
      "cell_type": "code",
      "execution_count": null,
      "id": "703bf96c",
      "metadata": {
        "id": "703bf96c",
        "outputId": "0cd36bb3-1b8d-4c66-de4a-373ef8483dde"
      },
      "outputs": [
        {
          "name": "stdout",
          "output_type": "stream",
          "text": [
            "<class 'pandas.core.frame.DataFrame'>\n",
            "RangeIndex: 51940 entries, 0 to 51939\n",
            "Columns: 771 entries, id to loss\n",
            "dtypes: float64(653), int64(99), object(19)\n",
            "memory usage: 305.5+ MB\n"
          ]
        }
      ],
      "source": [
        "data_loan_tr.info()"
      ]
    },
    {
      "cell_type": "code",
      "execution_count": null,
      "id": "669a9b89",
      "metadata": {
        "id": "669a9b89",
        "outputId": "918ba8a2-8e0c-4f9e-b431-c28105f6215b"
      },
      "outputs": [
        {
          "data": {
            "text/html": [
              "<div>\n",
              "<style scoped>\n",
              "    .dataframe tbody tr th:only-of-type {\n",
              "        vertical-align: middle;\n",
              "    }\n",
              "\n",
              "    .dataframe tbody tr th {\n",
              "        vertical-align: top;\n",
              "    }\n",
              "\n",
              "    .dataframe thead th {\n",
              "        text-align: right;\n",
              "    }\n",
              "</style>\n",
              "<table border=\"1\" class=\"dataframe\">\n",
              "  <thead>\n",
              "    <tr style=\"text-align: right;\">\n",
              "      <th></th>\n",
              "      <th>id</th>\n",
              "      <th>f1</th>\n",
              "      <th>f2</th>\n",
              "      <th>f3</th>\n",
              "      <th>f4</th>\n",
              "      <th>f5</th>\n",
              "      <th>f6</th>\n",
              "      <th>f7</th>\n",
              "      <th>f8</th>\n",
              "      <th>f9</th>\n",
              "      <th>...</th>\n",
              "      <th>f770</th>\n",
              "      <th>f771</th>\n",
              "      <th>f772</th>\n",
              "      <th>f773</th>\n",
              "      <th>f774</th>\n",
              "      <th>f775</th>\n",
              "      <th>f776</th>\n",
              "      <th>f777</th>\n",
              "      <th>f778</th>\n",
              "      <th>loss</th>\n",
              "    </tr>\n",
              "  </thead>\n",
              "  <tbody>\n",
              "    <tr>\n",
              "      <th>count</th>\n",
              "      <td>51940.000000</td>\n",
              "      <td>51940.000000</td>\n",
              "      <td>51940.000000</td>\n",
              "      <td>51940.000000</td>\n",
              "      <td>51940.000000</td>\n",
              "      <td>51940.000000</td>\n",
              "      <td>51940.000000</td>\n",
              "      <td>51940.000000</td>\n",
              "      <td>51940.000000</td>\n",
              "      <td>51940.000000</td>\n",
              "      <td>...</td>\n",
              "      <td>51940.000000</td>\n",
              "      <td>51940.000000</td>\n",
              "      <td>51940.000000</td>\n",
              "      <td>51940.000000</td>\n",
              "      <td>51940.000000</td>\n",
              "      <td>51940.000000</td>\n",
              "      <td>51940.000000</td>\n",
              "      <td>51940.000000</td>\n",
              "      <td>51940.000000</td>\n",
              "      <td>51940.000000</td>\n",
              "    </tr>\n",
              "    <tr>\n",
              "      <th>mean</th>\n",
              "      <td>53865.652099</td>\n",
              "      <td>133.783385</td>\n",
              "      <td>8.100231</td>\n",
              "      <td>0.498406</td>\n",
              "      <td>2575.531382</td>\n",
              "      <td>7.547189</td>\n",
              "      <td>46628.654332</td>\n",
              "      <td>3116.184521</td>\n",
              "      <td>2647.083924</td>\n",
              "      <td>133.664962</td>\n",
              "      <td>...</td>\n",
              "      <td>23.651251</td>\n",
              "      <td>8.128500</td>\n",
              "      <td>-5.983063</td>\n",
              "      <td>4.627921</td>\n",
              "      <td>0.259028</td>\n",
              "      <td>0.183454</td>\n",
              "      <td>0.185175</td>\n",
              "      <td>0.269850</td>\n",
              "      <td>183.692145</td>\n",
              "      <td>0.824336</td>\n",
              "    </tr>\n",
              "    <tr>\n",
              "      <th>std</th>\n",
              "      <td>30563.110631</td>\n",
              "      <td>14.251180</td>\n",
              "      <td>1.744187</td>\n",
              "      <td>0.288387</td>\n",
              "      <td>1392.836428</td>\n",
              "      <td>5.239241</td>\n",
              "      <td>35810.475297</td>\n",
              "      <td>2582.520858</td>\n",
              "      <td>2314.065688</td>\n",
              "      <td>13.298794</td>\n",
              "      <td>...</td>\n",
              "      <td>20.497942</td>\n",
              "      <td>7.144896</td>\n",
              "      <td>5.284279</td>\n",
              "      <td>4.113085</td>\n",
              "      <td>0.048205</td>\n",
              "      <td>0.718893</td>\n",
              "      <td>0.388443</td>\n",
              "      <td>0.443886</td>\n",
              "      <td>301.544255</td>\n",
              "      <td>4.083566</td>\n",
              "    </tr>\n",
              "    <tr>\n",
              "      <th>min</th>\n",
              "      <td>3.000000</td>\n",
              "      <td>103.000000</td>\n",
              "      <td>1.000000</td>\n",
              "      <td>0.000038</td>\n",
              "      <td>1100.000000</td>\n",
              "      <td>1.000000</td>\n",
              "      <td>0.000000</td>\n",
              "      <td>5.000000</td>\n",
              "      <td>7.000000</td>\n",
              "      <td>109.070000</td>\n",
              "      <td>...</td>\n",
              "      <td>3.000000</td>\n",
              "      <td>0.200000</td>\n",
              "      <td>-43.160000</td>\n",
              "      <td>0.030000</td>\n",
              "      <td>0.000000</td>\n",
              "      <td>-14.676300</td>\n",
              "      <td>0.000000</td>\n",
              "      <td>0.000000</td>\n",
              "      <td>2.000000</td>\n",
              "      <td>0.000000</td>\n",
              "    </tr>\n",
              "    <tr>\n",
              "      <th>25%</th>\n",
              "      <td>27474.250000</td>\n",
              "      <td>124.000000</td>\n",
              "      <td>7.000000</td>\n",
              "      <td>0.249228</td>\n",
              "      <td>1500.000000</td>\n",
              "      <td>4.000000</td>\n",
              "      <td>10845.000000</td>\n",
              "      <td>707.000000</td>\n",
              "      <td>906.000000</td>\n",
              "      <td>124.440000</td>\n",
              "      <td>...</td>\n",
              "      <td>9.000000</td>\n",
              "      <td>3.210000</td>\n",
              "      <td>-7.880000</td>\n",
              "      <td>1.770000</td>\n",
              "      <td>0.236100</td>\n",
              "      <td>-0.541500</td>\n",
              "      <td>0.000000</td>\n",
              "      <td>0.000000</td>\n",
              "      <td>19.000000</td>\n",
              "      <td>0.000000</td>\n",
              "    </tr>\n",
              "    <tr>\n",
              "      <th>50%</th>\n",
              "      <td>54258.500000</td>\n",
              "      <td>129.000000</td>\n",
              "      <td>8.000000</td>\n",
              "      <td>0.496805</td>\n",
              "      <td>2100.000000</td>\n",
              "      <td>4.000000</td>\n",
              "      <td>75932.000000</td>\n",
              "      <td>2504.000000</td>\n",
              "      <td>1998.000000</td>\n",
              "      <td>128.230000</td>\n",
              "      <td>...</td>\n",
              "      <td>17.000000</td>\n",
              "      <td>5.810000</td>\n",
              "      <td>-4.300000</td>\n",
              "      <td>3.330000</td>\n",
              "      <td>0.265100</td>\n",
              "      <td>0.511000</td>\n",
              "      <td>0.000000</td>\n",
              "      <td>0.000000</td>\n",
              "      <td>40.000000</td>\n",
              "      <td>0.000000</td>\n",
              "    </tr>\n",
              "    <tr>\n",
              "      <th>75%</th>\n",
              "      <td>80896.500000</td>\n",
              "      <td>143.000000</td>\n",
              "      <td>9.000000</td>\n",
              "      <td>0.748636</td>\n",
              "      <td>3500.000000</td>\n",
              "      <td>13.000000</td>\n",
              "      <td>79884.000000</td>\n",
              "      <td>4864.000000</td>\n",
              "      <td>3680.000000</td>\n",
              "      <td>144.990000</td>\n",
              "      <td>...</td>\n",
              "      <td>31.000000</td>\n",
              "      <td>10.650000</td>\n",
              "      <td>-2.330000</td>\n",
              "      <td>6.130000</td>\n",
              "      <td>0.289600</td>\n",
              "      <td>0.752700</td>\n",
              "      <td>0.000000</td>\n",
              "      <td>1.000000</td>\n",
              "      <td>107.000000</td>\n",
              "      <td>0.000000</td>\n",
              "    </tr>\n",
              "    <tr>\n",
              "      <th>max</th>\n",
              "      <td>105469.000000</td>\n",
              "      <td>176.000000</td>\n",
              "      <td>11.000000</td>\n",
              "      <td>0.999994</td>\n",
              "      <td>7900.000000</td>\n",
              "      <td>17.000000</td>\n",
              "      <td>88023.000000</td>\n",
              "      <td>9968.000000</td>\n",
              "      <td>11541.000000</td>\n",
              "      <td>172.050000</td>\n",
              "      <td>...</td>\n",
              "      <td>168.000000</td>\n",
              "      <td>58.120000</td>\n",
              "      <td>-0.070000</td>\n",
              "      <td>34.040000</td>\n",
              "      <td>0.443500</td>\n",
              "      <td>4.023800</td>\n",
              "      <td>1.000000</td>\n",
              "      <td>1.000000</td>\n",
              "      <td>1212.000000</td>\n",
              "      <td>100.000000</td>\n",
              "    </tr>\n",
              "  </tbody>\n",
              "</table>\n",
              "<p>8 rows × 752 columns</p>\n",
              "</div>"
            ],
            "text/plain": [
              "                  id            f1            f2            f3            f4  \\\n",
              "count   51940.000000  51940.000000  51940.000000  51940.000000  51940.000000   \n",
              "mean    53865.652099    133.783385      8.100231      0.498406   2575.531382   \n",
              "std     30563.110631     14.251180      1.744187      0.288387   1392.836428   \n",
              "min         3.000000    103.000000      1.000000      0.000038   1100.000000   \n",
              "25%     27474.250000    124.000000      7.000000      0.249228   1500.000000   \n",
              "50%     54258.500000    129.000000      8.000000      0.496805   2100.000000   \n",
              "75%     80896.500000    143.000000      9.000000      0.748636   3500.000000   \n",
              "max    105469.000000    176.000000     11.000000      0.999994   7900.000000   \n",
              "\n",
              "                 f5            f6            f7            f8            f9  \\\n",
              "count  51940.000000  51940.000000  51940.000000  51940.000000  51940.000000   \n",
              "mean       7.547189  46628.654332   3116.184521   2647.083924    133.664962   \n",
              "std        5.239241  35810.475297   2582.520858   2314.065688     13.298794   \n",
              "min        1.000000      0.000000      5.000000      7.000000    109.070000   \n",
              "25%        4.000000  10845.000000    707.000000    906.000000    124.440000   \n",
              "50%        4.000000  75932.000000   2504.000000   1998.000000    128.230000   \n",
              "75%       13.000000  79884.000000   4864.000000   3680.000000    144.990000   \n",
              "max       17.000000  88023.000000   9968.000000  11541.000000    172.050000   \n",
              "\n",
              "       ...          f770          f771          f772          f773  \\\n",
              "count  ...  51940.000000  51940.000000  51940.000000  51940.000000   \n",
              "mean   ...     23.651251      8.128500     -5.983063      4.627921   \n",
              "std    ...     20.497942      7.144896      5.284279      4.113085   \n",
              "min    ...      3.000000      0.200000    -43.160000      0.030000   \n",
              "25%    ...      9.000000      3.210000     -7.880000      1.770000   \n",
              "50%    ...     17.000000      5.810000     -4.300000      3.330000   \n",
              "75%    ...     31.000000     10.650000     -2.330000      6.130000   \n",
              "max    ...    168.000000     58.120000     -0.070000     34.040000   \n",
              "\n",
              "               f774          f775          f776          f777          f778  \\\n",
              "count  51940.000000  51940.000000  51940.000000  51940.000000  51940.000000   \n",
              "mean       0.259028      0.183454      0.185175      0.269850    183.692145   \n",
              "std        0.048205      0.718893      0.388443      0.443886    301.544255   \n",
              "min        0.000000    -14.676300      0.000000      0.000000      2.000000   \n",
              "25%        0.236100     -0.541500      0.000000      0.000000     19.000000   \n",
              "50%        0.265100      0.511000      0.000000      0.000000     40.000000   \n",
              "75%        0.289600      0.752700      0.000000      1.000000    107.000000   \n",
              "max        0.443500      4.023800      1.000000      1.000000   1212.000000   \n",
              "\n",
              "               loss  \n",
              "count  51940.000000  \n",
              "mean       0.824336  \n",
              "std        4.083566  \n",
              "min        0.000000  \n",
              "25%        0.000000  \n",
              "50%        0.000000  \n",
              "75%        0.000000  \n",
              "max      100.000000  \n",
              "\n",
              "[8 rows x 752 columns]"
            ]
          },
          "execution_count": 21,
          "metadata": {},
          "output_type": "execute_result"
        }
      ],
      "source": [
        "data_loan_tr.describe()"
      ]
    },
    {
      "cell_type": "code",
      "execution_count": null,
      "id": "00027070",
      "metadata": {
        "id": "00027070",
        "outputId": "9a80503a-cb94-4e1c-b7d0-32407de4965d"
      },
      "outputs": [
        {
          "data": {
            "text/html": [
              "<div>\n",
              "<style scoped>\n",
              "    .dataframe tbody tr th:only-of-type {\n",
              "        vertical-align: middle;\n",
              "    }\n",
              "\n",
              "    .dataframe tbody tr th {\n",
              "        vertical-align: top;\n",
              "    }\n",
              "\n",
              "    .dataframe thead th {\n",
              "        text-align: right;\n",
              "    }\n",
              "</style>\n",
              "<table border=\"1\" class=\"dataframe\">\n",
              "  <thead>\n",
              "    <tr style=\"text-align: right;\">\n",
              "      <th></th>\n",
              "      <th>id</th>\n",
              "      <th>f1</th>\n",
              "      <th>f2</th>\n",
              "      <th>f3</th>\n",
              "      <th>f4</th>\n",
              "      <th>f5</th>\n",
              "      <th>f6</th>\n",
              "      <th>f7</th>\n",
              "      <th>f8</th>\n",
              "      <th>f9</th>\n",
              "      <th>...</th>\n",
              "      <th>f769</th>\n",
              "      <th>f770</th>\n",
              "      <th>f771</th>\n",
              "      <th>f772</th>\n",
              "      <th>f773</th>\n",
              "      <th>f774</th>\n",
              "      <th>f775</th>\n",
              "      <th>f776</th>\n",
              "      <th>f777</th>\n",
              "      <th>f778</th>\n",
              "    </tr>\n",
              "  </thead>\n",
              "  <tbody>\n",
              "    <tr>\n",
              "      <th>count</th>\n",
              "      <td>54767.000000</td>\n",
              "      <td>54767.000000</td>\n",
              "      <td>54767.000000</td>\n",
              "      <td>54767.000000</td>\n",
              "      <td>54767.000000</td>\n",
              "      <td>54767.000000</td>\n",
              "      <td>54767.000000</td>\n",
              "      <td>54767.000000</td>\n",
              "      <td>54767.000000</td>\n",
              "      <td>54767.000000</td>\n",
              "      <td>...</td>\n",
              "      <td>54767.000000</td>\n",
              "      <td>54767.000000</td>\n",
              "      <td>54767.000000</td>\n",
              "      <td>54767.000000</td>\n",
              "      <td>54767.000000</td>\n",
              "      <td>54767.000000</td>\n",
              "      <td>54767.000000</td>\n",
              "      <td>54767.000000</td>\n",
              "      <td>54767.000000</td>\n",
              "      <td>54767.000000</td>\n",
              "    </tr>\n",
              "    <tr>\n",
              "      <th>mean</th>\n",
              "      <td>210807.382183</td>\n",
              "      <td>134.194551</td>\n",
              "      <td>8.078770</td>\n",
              "      <td>0.501430</td>\n",
              "      <td>2608.483211</td>\n",
              "      <td>7.993116</td>\n",
              "      <td>51630.555207</td>\n",
              "      <td>3508.639181</td>\n",
              "      <td>3021.107930</td>\n",
              "      <td>134.158016</td>\n",
              "      <td>...</td>\n",
              "      <td>-11.967076</td>\n",
              "      <td>23.290613</td>\n",
              "      <td>7.957287</td>\n",
              "      <td>-5.844064</td>\n",
              "      <td>4.508485</td>\n",
              "      <td>0.258467</td>\n",
              "      <td>0.178068</td>\n",
              "      <td>0.169189</td>\n",
              "      <td>0.282835</td>\n",
              "      <td>218.807731</td>\n",
              "    </tr>\n",
              "    <tr>\n",
              "      <th>std</th>\n",
              "      <td>60877.037664</td>\n",
              "      <td>14.427304</td>\n",
              "      <td>1.762183</td>\n",
              "      <td>0.289447</td>\n",
              "      <td>1412.940690</td>\n",
              "      <td>5.478210</td>\n",
              "      <td>35462.818560</td>\n",
              "      <td>2991.015695</td>\n",
              "      <td>2727.888887</td>\n",
              "      <td>13.551503</td>\n",
              "      <td>...</td>\n",
              "      <td>10.533466</td>\n",
              "      <td>20.464644</td>\n",
              "      <td>7.005986</td>\n",
              "      <td>5.156185</td>\n",
              "      <td>3.996742</td>\n",
              "      <td>0.048706</td>\n",
              "      <td>0.714550</td>\n",
              "      <td>0.374923</td>\n",
              "      <td>0.450381</td>\n",
              "      <td>327.221916</td>\n",
              "    </tr>\n",
              "    <tr>\n",
              "      <th>min</th>\n",
              "      <td>105474.000000</td>\n",
              "      <td>103.000000</td>\n",
              "      <td>1.000000</td>\n",
              "      <td>0.000009</td>\n",
              "      <td>1100.000000</td>\n",
              "      <td>1.000000</td>\n",
              "      <td>0.000000</td>\n",
              "      <td>6.000000</td>\n",
              "      <td>5.000000</td>\n",
              "      <td>106.980000</td>\n",
              "      <td>...</td>\n",
              "      <td>-92.930000</td>\n",
              "      <td>2.000000</td>\n",
              "      <td>0.090000</td>\n",
              "      <td>-43.750000</td>\n",
              "      <td>0.010000</td>\n",
              "      <td>0.000000</td>\n",
              "      <td>-18.551600</td>\n",
              "      <td>0.000000</td>\n",
              "      <td>0.000000</td>\n",
              "      <td>2.000000</td>\n",
              "    </tr>\n",
              "    <tr>\n",
              "      <th>25%</th>\n",
              "      <td>157980.500000</td>\n",
              "      <td>124.000000</td>\n",
              "      <td>7.000000</td>\n",
              "      <td>0.250089</td>\n",
              "      <td>1500.000000</td>\n",
              "      <td>4.000000</td>\n",
              "      <td>12290.000000</td>\n",
              "      <td>721.000000</td>\n",
              "      <td>1007.500000</td>\n",
              "      <td>124.650000</td>\n",
              "      <td>...</td>\n",
              "      <td>-15.520000</td>\n",
              "      <td>9.000000</td>\n",
              "      <td>3.110000</td>\n",
              "      <td>-7.700000</td>\n",
              "      <td>1.710000</td>\n",
              "      <td>0.234800</td>\n",
              "      <td>-0.538050</td>\n",
              "      <td>0.000000</td>\n",
              "      <td>0.000000</td>\n",
              "      <td>20.000000</td>\n",
              "    </tr>\n",
              "    <tr>\n",
              "      <th>50%</th>\n",
              "      <td>210674.000000</td>\n",
              "      <td>129.000000</td>\n",
              "      <td>8.000000</td>\n",
              "      <td>0.502808</td>\n",
              "      <td>2100.000000</td>\n",
              "      <td>4.000000</td>\n",
              "      <td>76957.000000</td>\n",
              "      <td>2678.000000</td>\n",
              "      <td>2230.000000</td>\n",
              "      <td>128.440000</td>\n",
              "      <td>...</td>\n",
              "      <td>-8.590000</td>\n",
              "      <td>17.000000</td>\n",
              "      <td>5.790000</td>\n",
              "      <td>-4.280000</td>\n",
              "      <td>3.310000</td>\n",
              "      <td>0.264400</td>\n",
              "      <td>0.506400</td>\n",
              "      <td>0.000000</td>\n",
              "      <td>0.000000</td>\n",
              "      <td>46.000000</td>\n",
              "    </tr>\n",
              "    <tr>\n",
              "      <th>75%</th>\n",
              "      <td>263009.500000</td>\n",
              "      <td>145.000000</td>\n",
              "      <td>9.000000</td>\n",
              "      <td>0.753027</td>\n",
              "      <td>3600.000000</td>\n",
              "      <td>16.000000</td>\n",
              "      <td>81224.000000</td>\n",
              "      <td>5763.000000</td>\n",
              "      <td>4100.500000</td>\n",
              "      <td>147.025000</td>\n",
              "      <td>...</td>\n",
              "      <td>-4.770000</td>\n",
              "      <td>30.000000</td>\n",
              "      <td>10.410000</td>\n",
              "      <td>-2.250000</td>\n",
              "      <td>5.980000</td>\n",
              "      <td>0.289400</td>\n",
              "      <td>0.741000</td>\n",
              "      <td>0.000000</td>\n",
              "      <td>1.000000</td>\n",
              "      <td>393.000000</td>\n",
              "    </tr>\n",
              "    <tr>\n",
              "      <th>max</th>\n",
              "      <td>316415.000000</td>\n",
              "      <td>176.000000</td>\n",
              "      <td>11.000000</td>\n",
              "      <td>0.999991</td>\n",
              "      <td>7900.000000</td>\n",
              "      <td>17.000000</td>\n",
              "      <td>89792.000000</td>\n",
              "      <td>11440.000000</td>\n",
              "      <td>13373.000000</td>\n",
              "      <td>173.030000</td>\n",
              "      <td>...</td>\n",
              "      <td>-0.300000</td>\n",
              "      <td>170.000000</td>\n",
              "      <td>61.220000</td>\n",
              "      <td>0.000000</td>\n",
              "      <td>32.610000</td>\n",
              "      <td>0.456300</td>\n",
              "      <td>3.386100</td>\n",
              "      <td>1.000000</td>\n",
              "      <td>1.000000</td>\n",
              "      <td>1212.000000</td>\n",
              "    </tr>\n",
              "  </tbody>\n",
              "</table>\n",
              "<p>8 rows × 751 columns</p>\n",
              "</div>"
            ],
            "text/plain": [
              "                  id            f1            f2            f3            f4  \\\n",
              "count   54767.000000  54767.000000  54767.000000  54767.000000  54767.000000   \n",
              "mean   210807.382183    134.194551      8.078770      0.501430   2608.483211   \n",
              "std     60877.037664     14.427304      1.762183      0.289447   1412.940690   \n",
              "min    105474.000000    103.000000      1.000000      0.000009   1100.000000   \n",
              "25%    157980.500000    124.000000      7.000000      0.250089   1500.000000   \n",
              "50%    210674.000000    129.000000      8.000000      0.502808   2100.000000   \n",
              "75%    263009.500000    145.000000      9.000000      0.753027   3600.000000   \n",
              "max    316415.000000    176.000000     11.000000      0.999991   7900.000000   \n",
              "\n",
              "                 f5            f6            f7            f8            f9  \\\n",
              "count  54767.000000  54767.000000  54767.000000  54767.000000  54767.000000   \n",
              "mean       7.993116  51630.555207   3508.639181   3021.107930    134.158016   \n",
              "std        5.478210  35462.818560   2991.015695   2727.888887     13.551503   \n",
              "min        1.000000      0.000000      6.000000      5.000000    106.980000   \n",
              "25%        4.000000  12290.000000    721.000000   1007.500000    124.650000   \n",
              "50%        4.000000  76957.000000   2678.000000   2230.000000    128.440000   \n",
              "75%       16.000000  81224.000000   5763.000000   4100.500000    147.025000   \n",
              "max       17.000000  89792.000000  11440.000000  13373.000000    173.030000   \n",
              "\n",
              "       ...          f769          f770          f771          f772  \\\n",
              "count  ...  54767.000000  54767.000000  54767.000000  54767.000000   \n",
              "mean   ...    -11.967076     23.290613      7.957287     -5.844064   \n",
              "std    ...     10.533466     20.464644      7.005986      5.156185   \n",
              "min    ...    -92.930000      2.000000      0.090000    -43.750000   \n",
              "25%    ...    -15.520000      9.000000      3.110000     -7.700000   \n",
              "50%    ...     -8.590000     17.000000      5.790000     -4.280000   \n",
              "75%    ...     -4.770000     30.000000     10.410000     -2.250000   \n",
              "max    ...     -0.300000    170.000000     61.220000      0.000000   \n",
              "\n",
              "               f773          f774          f775          f776          f777  \\\n",
              "count  54767.000000  54767.000000  54767.000000  54767.000000  54767.000000   \n",
              "mean       4.508485      0.258467      0.178068      0.169189      0.282835   \n",
              "std        3.996742      0.048706      0.714550      0.374923      0.450381   \n",
              "min        0.010000      0.000000    -18.551600      0.000000      0.000000   \n",
              "25%        1.710000      0.234800     -0.538050      0.000000      0.000000   \n",
              "50%        3.310000      0.264400      0.506400      0.000000      0.000000   \n",
              "75%        5.980000      0.289400      0.741000      0.000000      1.000000   \n",
              "max       32.610000      0.456300      3.386100      1.000000      1.000000   \n",
              "\n",
              "               f778  \n",
              "count  54767.000000  \n",
              "mean     218.807731  \n",
              "std      327.221916  \n",
              "min        2.000000  \n",
              "25%       20.000000  \n",
              "50%       46.000000  \n",
              "75%      393.000000  \n",
              "max     1212.000000  \n",
              "\n",
              "[8 rows x 751 columns]"
            ]
          },
          "execution_count": 22,
          "metadata": {},
          "output_type": "execute_result"
        }
      ],
      "source": [
        "data_loan_te.describe()"
      ]
    },
    {
      "cell_type": "code",
      "execution_count": null,
      "id": "d1e68b94",
      "metadata": {
        "id": "d1e68b94",
        "outputId": "82eec8d2-477a-482b-a5e9-0f6d21ba7db1"
      },
      "outputs": [
        {
          "data": {
            "text/plain": [
              "0    37924\n",
              "1    14016\n",
              "Name: f777, dtype: int64"
            ]
          },
          "execution_count": 23,
          "metadata": {},
          "output_type": "execute_result"
        }
      ],
      "source": [
        "fd=data_loan_tr['f777'].value_counts()\n",
        "fd"
      ]
    },
    {
      "cell_type": "code",
      "execution_count": null,
      "id": "6dcc43ca",
      "metadata": {
        "id": "6dcc43ca"
      },
      "outputs": [],
      "source": [
        "#combine datasets for train_test_split using sklearn\n",
        "df = pd.concat([data_loan_te, data_loan_tr])"
      ]
    },
    {
      "cell_type": "code",
      "execution_count": null,
      "id": "fbef4d4b",
      "metadata": {
        "id": "fbef4d4b",
        "outputId": "c482a08f-c58f-45ff-81fa-017b82267024"
      },
      "outputs": [
        {
          "data": {
            "text/html": [
              "<div>\n",
              "<style scoped>\n",
              "    .dataframe tbody tr th:only-of-type {\n",
              "        vertical-align: middle;\n",
              "    }\n",
              "\n",
              "    .dataframe tbody tr th {\n",
              "        vertical-align: top;\n",
              "    }\n",
              "\n",
              "    .dataframe thead th {\n",
              "        text-align: right;\n",
              "    }\n",
              "</style>\n",
              "<table border=\"1\" class=\"dataframe\">\n",
              "  <thead>\n",
              "    <tr style=\"text-align: right;\">\n",
              "      <th></th>\n",
              "      <th>id</th>\n",
              "      <th>f1</th>\n",
              "      <th>f2</th>\n",
              "      <th>f3</th>\n",
              "      <th>f4</th>\n",
              "      <th>f5</th>\n",
              "      <th>f6</th>\n",
              "      <th>f7</th>\n",
              "      <th>f8</th>\n",
              "      <th>f9</th>\n",
              "      <th>...</th>\n",
              "      <th>f770</th>\n",
              "      <th>f771</th>\n",
              "      <th>f772</th>\n",
              "      <th>f773</th>\n",
              "      <th>f774</th>\n",
              "      <th>f775</th>\n",
              "      <th>f776</th>\n",
              "      <th>f777</th>\n",
              "      <th>f778</th>\n",
              "      <th>loss</th>\n",
              "    </tr>\n",
              "  </thead>\n",
              "  <tbody>\n",
              "    <tr>\n",
              "      <th>0</th>\n",
              "      <td>105474</td>\n",
              "      <td>132</td>\n",
              "      <td>9</td>\n",
              "      <td>0.898133</td>\n",
              "      <td>2200</td>\n",
              "      <td>16.0</td>\n",
              "      <td>113</td>\n",
              "      <td>5735.0</td>\n",
              "      <td>2387.0</td>\n",
              "      <td>130.61</td>\n",
              "      <td>...</td>\n",
              "      <td>9</td>\n",
              "      <td>3.25</td>\n",
              "      <td>-2.33</td>\n",
              "      <td>1.69</td>\n",
              "      <td>0.2317</td>\n",
              "      <td>0.4184</td>\n",
              "      <td>0</td>\n",
              "      <td>0</td>\n",
              "      <td>393</td>\n",
              "      <td>NaN</td>\n",
              "    </tr>\n",
              "    <tr>\n",
              "      <th>1</th>\n",
              "      <td>105481</td>\n",
              "      <td>153</td>\n",
              "      <td>7</td>\n",
              "      <td>0.445673</td>\n",
              "      <td>5300</td>\n",
              "      <td>10.0</td>\n",
              "      <td>83293</td>\n",
              "      <td>4121.0</td>\n",
              "      <td>455.0</td>\n",
              "      <td>154.38</td>\n",
              "      <td>...</td>\n",
              "      <td>34</td>\n",
              "      <td>12.15</td>\n",
              "      <td>-8.58</td>\n",
              "      <td>6.26</td>\n",
              "      <td>0.2476</td>\n",
              "      <td>0.8338</td>\n",
              "      <td>0</td>\n",
              "      <td>1</td>\n",
              "      <td>34</td>\n",
              "      <td>NaN</td>\n",
              "    </tr>\n",
              "    <tr>\n",
              "      <th>2</th>\n",
              "      <td>105484</td>\n",
              "      <td>127</td>\n",
              "      <td>8</td>\n",
              "      <td>0.870942</td>\n",
              "      <td>1300</td>\n",
              "      <td>4.0</td>\n",
              "      <td>84020</td>\n",
              "      <td>4606.0</td>\n",
              "      <td>9204.0</td>\n",
              "      <td>125.60</td>\n",
              "      <td>...</td>\n",
              "      <td>17</td>\n",
              "      <td>4.61</td>\n",
              "      <td>-3.20</td>\n",
              "      <td>2.43</td>\n",
              "      <td>0.2610</td>\n",
              "      <td>-0.6390</td>\n",
              "      <td>0</td>\n",
              "      <td>0</td>\n",
              "      <td>30</td>\n",
              "      <td>NaN</td>\n",
              "    </tr>\n",
              "    <tr>\n",
              "      <th>3</th>\n",
              "      <td>105487</td>\n",
              "      <td>125</td>\n",
              "      <td>10</td>\n",
              "      <td>0.153149</td>\n",
              "      <td>1300</td>\n",
              "      <td>16.0</td>\n",
              "      <td>84882</td>\n",
              "      <td>1715.0</td>\n",
              "      <td>2377.0</td>\n",
              "      <td>126.12</td>\n",
              "      <td>...</td>\n",
              "      <td>22</td>\n",
              "      <td>7.94</td>\n",
              "      <td>-5.73</td>\n",
              "      <td>4.21</td>\n",
              "      <td>0.2846</td>\n",
              "      <td>0.8886</td>\n",
              "      <td>0</td>\n",
              "      <td>0</td>\n",
              "      <td>393</td>\n",
              "      <td>NaN</td>\n",
              "    </tr>\n",
              "    <tr>\n",
              "      <th>4</th>\n",
              "      <td>105490</td>\n",
              "      <td>112</td>\n",
              "      <td>10</td>\n",
              "      <td>0.044429</td>\n",
              "      <td>1900</td>\n",
              "      <td>16.0</td>\n",
              "      <td>76878</td>\n",
              "      <td>479.0</td>\n",
              "      <td>6496.0</td>\n",
              "      <td>117.08</td>\n",
              "      <td>...</td>\n",
              "      <td>13</td>\n",
              "      <td>4.26</td>\n",
              "      <td>-3.15</td>\n",
              "      <td>2.44</td>\n",
              "      <td>0.3035</td>\n",
              "      <td>0.6035</td>\n",
              "      <td>1</td>\n",
              "      <td>0</td>\n",
              "      <td>513</td>\n",
              "      <td>NaN</td>\n",
              "    </tr>\n",
              "  </tbody>\n",
              "</table>\n",
              "<p>5 rows × 771 columns</p>\n",
              "</div>"
            ],
            "text/plain": [
              "       id   f1  f2        f3    f4    f5     f6      f7      f8      f9  ...  \\\n",
              "0  105474  132   9  0.898133  2200  16.0    113  5735.0  2387.0  130.61  ...   \n",
              "1  105481  153   7  0.445673  5300  10.0  83293  4121.0   455.0  154.38  ...   \n",
              "2  105484  127   8  0.870942  1300   4.0  84020  4606.0  9204.0  125.60  ...   \n",
              "3  105487  125  10  0.153149  1300  16.0  84882  1715.0  2377.0  126.12  ...   \n",
              "4  105490  112  10  0.044429  1900  16.0  76878   479.0  6496.0  117.08  ...   \n",
              "\n",
              "   f770   f771  f772  f773    f774    f775  f776  f777  f778  loss  \n",
              "0     9   3.25 -2.33  1.69  0.2317  0.4184     0     0   393   NaN  \n",
              "1    34  12.15 -8.58  6.26  0.2476  0.8338     0     1    34   NaN  \n",
              "2    17   4.61 -3.20  2.43  0.2610 -0.6390     0     0    30   NaN  \n",
              "3    22   7.94 -5.73  4.21  0.2846  0.8886     0     0   393   NaN  \n",
              "4    13   4.26 -3.15  2.44  0.3035  0.6035     1     0   513   NaN  \n",
              "\n",
              "[5 rows x 771 columns]"
            ]
          },
          "execution_count": 25,
          "metadata": {},
          "output_type": "execute_result"
        }
      ],
      "source": [
        "df.head()"
      ]
    },
    {
      "cell_type": "code",
      "execution_count": null,
      "id": "c47219f1",
      "metadata": {
        "id": "c47219f1",
        "outputId": "0ccb7747-8d48-4cbb-ab4e-43837b8e1b8d"
      },
      "outputs": [
        {
          "data": {
            "text/html": [
              "<div>\n",
              "<style scoped>\n",
              "    .dataframe tbody tr th:only-of-type {\n",
              "        vertical-align: middle;\n",
              "    }\n",
              "\n",
              "    .dataframe tbody tr th {\n",
              "        vertical-align: top;\n",
              "    }\n",
              "\n",
              "    .dataframe thead th {\n",
              "        text-align: right;\n",
              "    }\n",
              "</style>\n",
              "<table border=\"1\" class=\"dataframe\">\n",
              "  <thead>\n",
              "    <tr style=\"text-align: right;\">\n",
              "      <th></th>\n",
              "      <th>id</th>\n",
              "      <th>f1</th>\n",
              "      <th>f2</th>\n",
              "      <th>f3</th>\n",
              "      <th>f4</th>\n",
              "      <th>f5</th>\n",
              "      <th>f6</th>\n",
              "      <th>f7</th>\n",
              "      <th>f8</th>\n",
              "      <th>f9</th>\n",
              "      <th>...</th>\n",
              "      <th>f770</th>\n",
              "      <th>f771</th>\n",
              "      <th>f772</th>\n",
              "      <th>f773</th>\n",
              "      <th>f774</th>\n",
              "      <th>f775</th>\n",
              "      <th>f776</th>\n",
              "      <th>f777</th>\n",
              "      <th>f778</th>\n",
              "      <th>loss</th>\n",
              "    </tr>\n",
              "  </thead>\n",
              "  <tbody>\n",
              "    <tr>\n",
              "      <th>2</th>\n",
              "      <td>3</td>\n",
              "      <td>126</td>\n",
              "      <td>10</td>\n",
              "      <td>0.500080</td>\n",
              "      <td>1100</td>\n",
              "      <td>3.0</td>\n",
              "      <td>83607</td>\n",
              "      <td>1800.0</td>\n",
              "      <td>1527.0</td>\n",
              "      <td>127.76</td>\n",
              "      <td>...</td>\n",
              "      <td>13</td>\n",
              "      <td>2.89</td>\n",
              "      <td>-1.73</td>\n",
              "      <td>1.04</td>\n",
              "      <td>0.2521</td>\n",
              "      <td>0.7258</td>\n",
              "      <td>1</td>\n",
              "      <td>0</td>\n",
              "      <td>5</td>\n",
              "      <td>0.0</td>\n",
              "    </tr>\n",
              "    <tr>\n",
              "      <th>4</th>\n",
              "      <td>5</td>\n",
              "      <td>109</td>\n",
              "      <td>9</td>\n",
              "      <td>0.502749</td>\n",
              "      <td>2900</td>\n",
              "      <td>4.0</td>\n",
              "      <td>79124</td>\n",
              "      <td>89.0</td>\n",
              "      <td>491.0</td>\n",
              "      <td>122.72</td>\n",
              "      <td>...</td>\n",
              "      <td>26</td>\n",
              "      <td>6.11</td>\n",
              "      <td>-3.82</td>\n",
              "      <td>2.51</td>\n",
              "      <td>0.2282</td>\n",
              "      <td>-0.5399</td>\n",
              "      <td>0</td>\n",
              "      <td>0</td>\n",
              "      <td>5</td>\n",
              "      <td>0.0</td>\n",
              "    </tr>\n",
              "    <tr>\n",
              "      <th>6</th>\n",
              "      <td>7</td>\n",
              "      <td>121</td>\n",
              "      <td>9</td>\n",
              "      <td>0.985674</td>\n",
              "      <td>2900</td>\n",
              "      <td>4.0</td>\n",
              "      <td>13026</td>\n",
              "      <td>4565.0</td>\n",
              "      <td>263.0</td>\n",
              "      <td>126.36</td>\n",
              "      <td>...</td>\n",
              "      <td>23</td>\n",
              "      <td>7.06</td>\n",
              "      <td>-4.99</td>\n",
              "      <td>3.77</td>\n",
              "      <td>0.2458</td>\n",
              "      <td>-0.6732</td>\n",
              "      <td>0</td>\n",
              "      <td>0</td>\n",
              "      <td>5</td>\n",
              "      <td>0.0</td>\n",
              "    </tr>\n",
              "    <tr>\n",
              "      <th>7</th>\n",
              "      <td>8</td>\n",
              "      <td>128</td>\n",
              "      <td>9</td>\n",
              "      <td>0.385778</td>\n",
              "      <td>2900</td>\n",
              "      <td>4.0</td>\n",
              "      <td>79244</td>\n",
              "      <td>6597.0</td>\n",
              "      <td>3592.0</td>\n",
              "      <td>127.19</td>\n",
              "      <td>...</td>\n",
              "      <td>17</td>\n",
              "      <td>4.45</td>\n",
              "      <td>-3.26</td>\n",
              "      <td>2.56</td>\n",
              "      <td>0.2947</td>\n",
              "      <td>-0.7220</td>\n",
              "      <td>0</td>\n",
              "      <td>0</td>\n",
              "      <td>5</td>\n",
              "      <td>1.0</td>\n",
              "    </tr>\n",
              "    <tr>\n",
              "      <th>8</th>\n",
              "      <td>9</td>\n",
              "      <td>126</td>\n",
              "      <td>9</td>\n",
              "      <td>0.745471</td>\n",
              "      <td>2900</td>\n",
              "      <td>4.0</td>\n",
              "      <td>78920</td>\n",
              "      <td>3058.0</td>\n",
              "      <td>112.0</td>\n",
              "      <td>123.89</td>\n",
              "      <td>...</td>\n",
              "      <td>7</td>\n",
              "      <td>2.02</td>\n",
              "      <td>-1.35</td>\n",
              "      <td>0.95</td>\n",
              "      <td>0.2601</td>\n",
              "      <td>0.7132</td>\n",
              "      <td>0</td>\n",
              "      <td>0</td>\n",
              "      <td>5</td>\n",
              "      <td>0.0</td>\n",
              "    </tr>\n",
              "  </tbody>\n",
              "</table>\n",
              "<p>5 rows × 771 columns</p>\n",
              "</div>"
            ],
            "text/plain": [
              "   id   f1  f2        f3    f4   f5     f6      f7      f8      f9  ...  f770  \\\n",
              "2   3  126  10  0.500080  1100  3.0  83607  1800.0  1527.0  127.76  ...    13   \n",
              "4   5  109   9  0.502749  2900  4.0  79124    89.0   491.0  122.72  ...    26   \n",
              "6   7  121   9  0.985674  2900  4.0  13026  4565.0   263.0  126.36  ...    23   \n",
              "7   8  128   9  0.385778  2900  4.0  79244  6597.0  3592.0  127.19  ...    17   \n",
              "8   9  126   9  0.745471  2900  4.0  78920  3058.0   112.0  123.89  ...     7   \n",
              "\n",
              "   f771  f772  f773    f774    f775  f776  f777  f778  loss  \n",
              "2  2.89 -1.73  1.04  0.2521  0.7258     1     0     5   0.0  \n",
              "4  6.11 -3.82  2.51  0.2282 -0.5399     0     0     5   0.0  \n",
              "6  7.06 -4.99  3.77  0.2458 -0.6732     0     0     5   0.0  \n",
              "7  4.45 -3.26  2.56  0.2947 -0.7220     0     0     5   1.0  \n",
              "8  2.02 -1.35  0.95  0.2601  0.7132     0     0     5   0.0  \n",
              "\n",
              "[5 rows x 771 columns]"
            ]
          },
          "execution_count": 15,
          "metadata": {},
          "output_type": "execute_result"
        }
      ],
      "source": [
        "data=df.dropna()\n",
        "data.head()"
      ]
    },
    {
      "cell_type": "code",
      "execution_count": null,
      "id": "4812b2b8",
      "metadata": {
        "id": "4812b2b8"
      },
      "outputs": [],
      "source": [
        "#split the dataset into X and y for train test split\n",
        "def prep_data(df: pd.DataFrame) -> (np.ndarray, np.ndarray):\n",
        "    X = df.iloc[:, 2:30].values #select a few columns\n",
        "    y = df.f777.values #fraud or not\n",
        "    return X, y"
      ]
    },
    {
      "cell_type": "code",
      "execution_count": null,
      "id": "e811fe82",
      "metadata": {
        "id": "e811fe82"
      },
      "outputs": [],
      "source": [
        "# Create X and y from the prep_data function\n",
        "X, y = prep_data(data)"
      ]
    },
    {
      "cell_type": "code",
      "execution_count": null,
      "id": "826bf5fc",
      "metadata": {
        "id": "826bf5fc"
      },
      "outputs": [],
      "source": [
        "from sklearn.linear_model import LinearRegression\n",
        "model = LinearRegression()\n"
      ]
    },
    {
      "cell_type": "code",
      "execution_count": null,
      "id": "f530699b",
      "metadata": {
        "id": "f530699b"
      },
      "outputs": [],
      "source": [
        "from sklearn.model_selection import train_test_split\n",
        "X_train, X_test, y_train, y_test = train_test_split(X, y, test_size=0.2)\n"
      ]
    },
    {
      "cell_type": "code",
      "execution_count": null,
      "id": "57d46398",
      "metadata": {
        "id": "57d46398",
        "outputId": "0378cce6-5265-4d08-d294-d057308da720"
      },
      "outputs": [
        {
          "data": {
            "text/html": [
              "<style>#sk-container-id-1 {color: black;background-color: white;}#sk-container-id-1 pre{padding: 0;}#sk-container-id-1 div.sk-toggleable {background-color: white;}#sk-container-id-1 label.sk-toggleable__label {cursor: pointer;display: block;width: 100%;margin-bottom: 0;padding: 0.3em;box-sizing: border-box;text-align: center;}#sk-container-id-1 label.sk-toggleable__label-arrow:before {content: \"▸\";float: left;margin-right: 0.25em;color: #696969;}#sk-container-id-1 label.sk-toggleable__label-arrow:hover:before {color: black;}#sk-container-id-1 div.sk-estimator:hover label.sk-toggleable__label-arrow:before {color: black;}#sk-container-id-1 div.sk-toggleable__content {max-height: 0;max-width: 0;overflow: hidden;text-align: left;background-color: #f0f8ff;}#sk-container-id-1 div.sk-toggleable__content pre {margin: 0.2em;color: black;border-radius: 0.25em;background-color: #f0f8ff;}#sk-container-id-1 input.sk-toggleable__control:checked~div.sk-toggleable__content {max-height: 200px;max-width: 100%;overflow: auto;}#sk-container-id-1 input.sk-toggleable__control:checked~label.sk-toggleable__label-arrow:before {content: \"▾\";}#sk-container-id-1 div.sk-estimator input.sk-toggleable__control:checked~label.sk-toggleable__label {background-color: #d4ebff;}#sk-container-id-1 div.sk-label input.sk-toggleable__control:checked~label.sk-toggleable__label {background-color: #d4ebff;}#sk-container-id-1 input.sk-hidden--visually {border: 0;clip: rect(1px 1px 1px 1px);clip: rect(1px, 1px, 1px, 1px);height: 1px;margin: -1px;overflow: hidden;padding: 0;position: absolute;width: 1px;}#sk-container-id-1 div.sk-estimator {font-family: monospace;background-color: #f0f8ff;border: 1px dotted black;border-radius: 0.25em;box-sizing: border-box;margin-bottom: 0.5em;}#sk-container-id-1 div.sk-estimator:hover {background-color: #d4ebff;}#sk-container-id-1 div.sk-parallel-item::after {content: \"\";width: 100%;border-bottom: 1px solid gray;flex-grow: 1;}#sk-container-id-1 div.sk-label:hover label.sk-toggleable__label {background-color: #d4ebff;}#sk-container-id-1 div.sk-serial::before {content: \"\";position: absolute;border-left: 1px solid gray;box-sizing: border-box;top: 0;bottom: 0;left: 50%;z-index: 0;}#sk-container-id-1 div.sk-serial {display: flex;flex-direction: column;align-items: center;background-color: white;padding-right: 0.2em;padding-left: 0.2em;position: relative;}#sk-container-id-1 div.sk-item {position: relative;z-index: 1;}#sk-container-id-1 div.sk-parallel {display: flex;align-items: stretch;justify-content: center;background-color: white;position: relative;}#sk-container-id-1 div.sk-item::before, #sk-container-id-1 div.sk-parallel-item::before {content: \"\";position: absolute;border-left: 1px solid gray;box-sizing: border-box;top: 0;bottom: 0;left: 50%;z-index: -1;}#sk-container-id-1 div.sk-parallel-item {display: flex;flex-direction: column;z-index: 1;position: relative;background-color: white;}#sk-container-id-1 div.sk-parallel-item:first-child::after {align-self: flex-end;width: 50%;}#sk-container-id-1 div.sk-parallel-item:last-child::after {align-self: flex-start;width: 50%;}#sk-container-id-1 div.sk-parallel-item:only-child::after {width: 0;}#sk-container-id-1 div.sk-dashed-wrapped {border: 1px dashed gray;margin: 0 0.4em 0.5em 0.4em;box-sizing: border-box;padding-bottom: 0.4em;background-color: white;}#sk-container-id-1 div.sk-label label {font-family: monospace;font-weight: bold;display: inline-block;line-height: 1.2em;}#sk-container-id-1 div.sk-label-container {text-align: center;}#sk-container-id-1 div.sk-container {/* jupyter's `normalize.less` sets `[hidden] { display: none; }` but bootstrap.min.css set `[hidden] { display: none !important; }` so we also need the `!important` here to be able to override the default hidden behavior on the sphinx rendered scikit-learn.org. See: https://github.com/scikit-learn/scikit-learn/issues/21755 */display: inline-block !important;position: relative;}#sk-container-id-1 div.sk-text-repr-fallback {display: none;}</style><div id=\"sk-container-id-1\" class=\"sk-top-container\"><div class=\"sk-text-repr-fallback\"><pre>LinearRegression()</pre><b>In a Jupyter environment, please rerun this cell to show the HTML representation or trust the notebook. <br />On GitHub, the HTML representation is unable to render, please try loading this page with nbviewer.org.</b></div><div class=\"sk-container\" hidden><div class=\"sk-item\"><div class=\"sk-estimator sk-toggleable\"><input class=\"sk-toggleable__control sk-hidden--visually\" id=\"sk-estimator-id-1\" type=\"checkbox\" checked><label for=\"sk-estimator-id-1\" class=\"sk-toggleable__label sk-toggleable__label-arrow\">LinearRegression</label><div class=\"sk-toggleable__content\"><pre>LinearRegression()</pre></div></div></div></div></div>"
            ],
            "text/plain": [
              "LinearRegression()"
            ]
          },
          "execution_count": 25,
          "metadata": {},
          "output_type": "execute_result"
        }
      ],
      "source": [
        "model.fit(X_train, y_train)\n"
      ]
    },
    {
      "cell_type": "code",
      "execution_count": null,
      "id": "9a2b50ab",
      "metadata": {
        "id": "9a2b50ab",
        "outputId": "32124fed-2e2d-4093-98ae-8baff31b9f91"
      },
      "outputs": [
        {
          "name": "stdout",
          "output_type": "stream",
          "text": [
            "325/325 [==============================] - 1s 3ms/step\n"
          ]
        }
      ],
      "source": [
        "y_predicted = model.predict(X_test)\n"
      ]
    },
    {
      "cell_type": "code",
      "execution_count": null,
      "id": "948c43fd",
      "metadata": {
        "id": "948c43fd",
        "outputId": "479568b7-8b9e-4aad-d9ac-0f47539d5601"
      },
      "outputs": [
        {
          "data": {
            "text/plain": [
              "-0.25301267165593444"
            ]
          },
          "execution_count": 34,
          "metadata": {},
          "output_type": "execute_result"
        }
      ],
      "source": [
        "from sklearn.metrics import r2_score\n",
        "from sklearn.metrics import accuracy_score\n",
        "r2_score(y_test, y_predicted)\n",
        "#the r2 score is negative so the linear regression model is not a good model for fraud detection. This is overfitting."
      ]
    },
    {
      "cell_type": "code",
      "execution_count": null,
      "id": "7d93cc3d",
      "metadata": {
        "id": "7d93cc3d",
        "outputId": "35b97f87-b870-4eee-e3e9-8c5a6cbe89ff"
      },
      "outputs": [
        {
          "data": {
            "text/html": [
              "<style>#sk-container-id-2 {color: black;background-color: white;}#sk-container-id-2 pre{padding: 0;}#sk-container-id-2 div.sk-toggleable {background-color: white;}#sk-container-id-2 label.sk-toggleable__label {cursor: pointer;display: block;width: 100%;margin-bottom: 0;padding: 0.3em;box-sizing: border-box;text-align: center;}#sk-container-id-2 label.sk-toggleable__label-arrow:before {content: \"▸\";float: left;margin-right: 0.25em;color: #696969;}#sk-container-id-2 label.sk-toggleable__label-arrow:hover:before {color: black;}#sk-container-id-2 div.sk-estimator:hover label.sk-toggleable__label-arrow:before {color: black;}#sk-container-id-2 div.sk-toggleable__content {max-height: 0;max-width: 0;overflow: hidden;text-align: left;background-color: #f0f8ff;}#sk-container-id-2 div.sk-toggleable__content pre {margin: 0.2em;color: black;border-radius: 0.25em;background-color: #f0f8ff;}#sk-container-id-2 input.sk-toggleable__control:checked~div.sk-toggleable__content {max-height: 200px;max-width: 100%;overflow: auto;}#sk-container-id-2 input.sk-toggleable__control:checked~label.sk-toggleable__label-arrow:before {content: \"▾\";}#sk-container-id-2 div.sk-estimator input.sk-toggleable__control:checked~label.sk-toggleable__label {background-color: #d4ebff;}#sk-container-id-2 div.sk-label input.sk-toggleable__control:checked~label.sk-toggleable__label {background-color: #d4ebff;}#sk-container-id-2 input.sk-hidden--visually {border: 0;clip: rect(1px 1px 1px 1px);clip: rect(1px, 1px, 1px, 1px);height: 1px;margin: -1px;overflow: hidden;padding: 0;position: absolute;width: 1px;}#sk-container-id-2 div.sk-estimator {font-family: monospace;background-color: #f0f8ff;border: 1px dotted black;border-radius: 0.25em;box-sizing: border-box;margin-bottom: 0.5em;}#sk-container-id-2 div.sk-estimator:hover {background-color: #d4ebff;}#sk-container-id-2 div.sk-parallel-item::after {content: \"\";width: 100%;border-bottom: 1px solid gray;flex-grow: 1;}#sk-container-id-2 div.sk-label:hover label.sk-toggleable__label {background-color: #d4ebff;}#sk-container-id-2 div.sk-serial::before {content: \"\";position: absolute;border-left: 1px solid gray;box-sizing: border-box;top: 0;bottom: 0;left: 50%;z-index: 0;}#sk-container-id-2 div.sk-serial {display: flex;flex-direction: column;align-items: center;background-color: white;padding-right: 0.2em;padding-left: 0.2em;position: relative;}#sk-container-id-2 div.sk-item {position: relative;z-index: 1;}#sk-container-id-2 div.sk-parallel {display: flex;align-items: stretch;justify-content: center;background-color: white;position: relative;}#sk-container-id-2 div.sk-item::before, #sk-container-id-2 div.sk-parallel-item::before {content: \"\";position: absolute;border-left: 1px solid gray;box-sizing: border-box;top: 0;bottom: 0;left: 50%;z-index: -1;}#sk-container-id-2 div.sk-parallel-item {display: flex;flex-direction: column;z-index: 1;position: relative;background-color: white;}#sk-container-id-2 div.sk-parallel-item:first-child::after {align-self: flex-end;width: 50%;}#sk-container-id-2 div.sk-parallel-item:last-child::after {align-self: flex-start;width: 50%;}#sk-container-id-2 div.sk-parallel-item:only-child::after {width: 0;}#sk-container-id-2 div.sk-dashed-wrapped {border: 1px dashed gray;margin: 0 0.4em 0.5em 0.4em;box-sizing: border-box;padding-bottom: 0.4em;background-color: white;}#sk-container-id-2 div.sk-label label {font-family: monospace;font-weight: bold;display: inline-block;line-height: 1.2em;}#sk-container-id-2 div.sk-label-container {text-align: center;}#sk-container-id-2 div.sk-container {/* jupyter's `normalize.less` sets `[hidden] { display: none; }` but bootstrap.min.css set `[hidden] { display: none !important; }` so we also need the `!important` here to be able to override the default hidden behavior on the sphinx rendered scikit-learn.org. See: https://github.com/scikit-learn/scikit-learn/issues/21755 */display: inline-block !important;position: relative;}#sk-container-id-2 div.sk-text-repr-fallback {display: none;}</style><div id=\"sk-container-id-2\" class=\"sk-top-container\"><div class=\"sk-text-repr-fallback\"><pre>LogisticRegression(solver=&#x27;liblinear&#x27;)</pre><b>In a Jupyter environment, please rerun this cell to show the HTML representation or trust the notebook. <br />On GitHub, the HTML representation is unable to render, please try loading this page with nbviewer.org.</b></div><div class=\"sk-container\" hidden><div class=\"sk-item\"><div class=\"sk-estimator sk-toggleable\"><input class=\"sk-toggleable__control sk-hidden--visually\" id=\"sk-estimator-id-2\" type=\"checkbox\" checked><label for=\"sk-estimator-id-2\" class=\"sk-toggleable__label sk-toggleable__label-arrow\">LogisticRegression</label><div class=\"sk-toggleable__content\"><pre>LogisticRegression(solver=&#x27;liblinear&#x27;)</pre></div></div></div></div></div>"
            ],
            "text/plain": [
              "LogisticRegression(solver='liblinear')"
            ]
          },
          "execution_count": 35,
          "metadata": {},
          "output_type": "execute_result"
        }
      ],
      "source": [
        "from sklearn.linear_model import LogisticRegression\n",
        "model_log = LogisticRegression(solver='liblinear')\n",
        "model_log.fit(X_train, y_train)"
      ]
    },
    {
      "cell_type": "code",
      "execution_count": null,
      "id": "f86485d4",
      "metadata": {
        "id": "f86485d4",
        "outputId": "d5158cd6-cb58-46c6-e8b2-dfddd9d0d243"
      },
      "outputs": [
        {
          "data": {
            "text/plain": [
              "0.7183764548279274"
            ]
          },
          "execution_count": 36,
          "metadata": {},
          "output_type": "execute_result"
        }
      ],
      "source": [
        "predicted = model_log.predict(X_test)\n",
        "r2_score(y_test, predicted)\n",
        "#linear regression is better than logistic regression"
      ]
    },
    {
      "cell_type": "code",
      "execution_count": null,
      "id": "a499e9f5",
      "metadata": {
        "id": "a499e9f5",
        "outputId": "d4fed8e6-2dee-4f24-efcf-fbf5cc80951f"
      },
      "outputs": [
        {
          "data": {
            "text/html": [
              "<style>#sk-container-id-3 {color: black;background-color: white;}#sk-container-id-3 pre{padding: 0;}#sk-container-id-3 div.sk-toggleable {background-color: white;}#sk-container-id-3 label.sk-toggleable__label {cursor: pointer;display: block;width: 100%;margin-bottom: 0;padding: 0.3em;box-sizing: border-box;text-align: center;}#sk-container-id-3 label.sk-toggleable__label-arrow:before {content: \"▸\";float: left;margin-right: 0.25em;color: #696969;}#sk-container-id-3 label.sk-toggleable__label-arrow:hover:before {color: black;}#sk-container-id-3 div.sk-estimator:hover label.sk-toggleable__label-arrow:before {color: black;}#sk-container-id-3 div.sk-toggleable__content {max-height: 0;max-width: 0;overflow: hidden;text-align: left;background-color: #f0f8ff;}#sk-container-id-3 div.sk-toggleable__content pre {margin: 0.2em;color: black;border-radius: 0.25em;background-color: #f0f8ff;}#sk-container-id-3 input.sk-toggleable__control:checked~div.sk-toggleable__content {max-height: 200px;max-width: 100%;overflow: auto;}#sk-container-id-3 input.sk-toggleable__control:checked~label.sk-toggleable__label-arrow:before {content: \"▾\";}#sk-container-id-3 div.sk-estimator input.sk-toggleable__control:checked~label.sk-toggleable__label {background-color: #d4ebff;}#sk-container-id-3 div.sk-label input.sk-toggleable__control:checked~label.sk-toggleable__label {background-color: #d4ebff;}#sk-container-id-3 input.sk-hidden--visually {border: 0;clip: rect(1px 1px 1px 1px);clip: rect(1px, 1px, 1px, 1px);height: 1px;margin: -1px;overflow: hidden;padding: 0;position: absolute;width: 1px;}#sk-container-id-3 div.sk-estimator {font-family: monospace;background-color: #f0f8ff;border: 1px dotted black;border-radius: 0.25em;box-sizing: border-box;margin-bottom: 0.5em;}#sk-container-id-3 div.sk-estimator:hover {background-color: #d4ebff;}#sk-container-id-3 div.sk-parallel-item::after {content: \"\";width: 100%;border-bottom: 1px solid gray;flex-grow: 1;}#sk-container-id-3 div.sk-label:hover label.sk-toggleable__label {background-color: #d4ebff;}#sk-container-id-3 div.sk-serial::before {content: \"\";position: absolute;border-left: 1px solid gray;box-sizing: border-box;top: 0;bottom: 0;left: 50%;z-index: 0;}#sk-container-id-3 div.sk-serial {display: flex;flex-direction: column;align-items: center;background-color: white;padding-right: 0.2em;padding-left: 0.2em;position: relative;}#sk-container-id-3 div.sk-item {position: relative;z-index: 1;}#sk-container-id-3 div.sk-parallel {display: flex;align-items: stretch;justify-content: center;background-color: white;position: relative;}#sk-container-id-3 div.sk-item::before, #sk-container-id-3 div.sk-parallel-item::before {content: \"\";position: absolute;border-left: 1px solid gray;box-sizing: border-box;top: 0;bottom: 0;left: 50%;z-index: -1;}#sk-container-id-3 div.sk-parallel-item {display: flex;flex-direction: column;z-index: 1;position: relative;background-color: white;}#sk-container-id-3 div.sk-parallel-item:first-child::after {align-self: flex-end;width: 50%;}#sk-container-id-3 div.sk-parallel-item:last-child::after {align-self: flex-start;width: 50%;}#sk-container-id-3 div.sk-parallel-item:only-child::after {width: 0;}#sk-container-id-3 div.sk-dashed-wrapped {border: 1px dashed gray;margin: 0 0.4em 0.5em 0.4em;box-sizing: border-box;padding-bottom: 0.4em;background-color: white;}#sk-container-id-3 div.sk-label label {font-family: monospace;font-weight: bold;display: inline-block;line-height: 1.2em;}#sk-container-id-3 div.sk-label-container {text-align: center;}#sk-container-id-3 div.sk-container {/* jupyter's `normalize.less` sets `[hidden] { display: none; }` but bootstrap.min.css set `[hidden] { display: none !important; }` so we also need the `!important` here to be able to override the default hidden behavior on the sphinx rendered scikit-learn.org. See: https://github.com/scikit-learn/scikit-learn/issues/21755 */display: inline-block !important;position: relative;}#sk-container-id-3 div.sk-text-repr-fallback {display: none;}</style><div id=\"sk-container-id-3\" class=\"sk-top-container\"><div class=\"sk-text-repr-fallback\"><pre>RandomForestClassifier(max_depth=2, random_state=0)</pre><b>In a Jupyter environment, please rerun this cell to show the HTML representation or trust the notebook. <br />On GitHub, the HTML representation is unable to render, please try loading this page with nbviewer.org.</b></div><div class=\"sk-container\" hidden><div class=\"sk-item\"><div class=\"sk-estimator sk-toggleable\"><input class=\"sk-toggleable__control sk-hidden--visually\" id=\"sk-estimator-id-3\" type=\"checkbox\" checked><label for=\"sk-estimator-id-3\" class=\"sk-toggleable__label sk-toggleable__label-arrow\">RandomForestClassifier</label><div class=\"sk-toggleable__content\"><pre>RandomForestClassifier(max_depth=2, random_state=0)</pre></div></div></div></div></div>"
            ],
            "text/plain": [
              "RandomForestClassifier(max_depth=2, random_state=0)"
            ]
          },
          "execution_count": 37,
          "metadata": {},
          "output_type": "execute_result"
        }
      ],
      "source": [
        "from sklearn.ensemble import RandomForestClassifier\n",
        "model_rfc=RandomForestClassifier(max_depth=2, random_state=0)\n",
        "model_rfc.fit(X_train, y_train)"
      ]
    },
    {
      "cell_type": "code",
      "execution_count": null,
      "id": "48663fc8",
      "metadata": {
        "id": "48663fc8",
        "outputId": "8a1ad59a-217f-44ce-a08a-c1219ce6a87f"
      },
      "outputs": [
        {
          "data": {
            "text/plain": [
              "0.7862020206808873"
            ]
          },
          "execution_count": 38,
          "metadata": {},
          "output_type": "execute_result"
        }
      ],
      "source": [
        "predicted = model_rfc.predict(X_test)\n",
        "r2_score(y_test, predicted)\n",
        "#linear regression  > random forest classifier > logistic regression"
      ]
    },
    {
      "cell_type": "code",
      "execution_count": null,
      "id": "1814b798",
      "metadata": {
        "id": "1814b798"
      },
      "outputs": [],
      "source": [
        "#standardise data\n",
        "\n",
        "mean = np.mean(X_train)\n",
        "std = np.std(X_train)\n",
        "\n",
        "\n",
        "X_train -= mean\n",
        "X_train /= std\n",
        "\n",
        "X_test -= mean\n",
        "X_test /= std"
      ]
    },
    {
      "cell_type": "code",
      "execution_count": null,
      "id": "d671e81a",
      "metadata": {
        "id": "d671e81a"
      },
      "outputs": [],
      "source": [
        "#create neural network\n",
        "from keras import models, layers\n",
        "model = models.Sequential() #sequential neural network\n",
        "model.add(layers.Dense(10, input_shape=(X_train.shape[1],), activation='relu'))\n",
        "model.add(layers.Dense(8, activation='relu'))\n",
        "model.add(layers.Dense(6, activation='softmax')) #originally relu\n",
        "model.add(layers.Dense(6, activation='tanh')) #not there in first model\n",
        "model.add(layers.Dense(1, activation='sigmoid'))"
      ]
    },
    {
      "cell_type": "code",
      "execution_count": null,
      "id": "768b6a5a",
      "metadata": {
        "id": "768b6a5a"
      },
      "outputs": [],
      "source": [
        "from sklearn.metrics import classification_report\n",
        "\n",
        "model.compile(optimizer='rmsprop', loss='binary_crossentropy') #try different loss and activation functions"
      ]
    },
    {
      "cell_type": "code",
      "execution_count": null,
      "id": "bb6db256",
      "metadata": {
        "scrolled": true,
        "id": "bb6db256",
        "outputId": "c5be9223-7175-48f4-a5b7-5862ec5769df"
      },
      "outputs": [
        {
          "name": "stdout",
          "output_type": "stream",
          "text": [
            "Epoch 1/10\n",
            "650/650 [==============================] - 2s 3ms/step - loss: 0.3248\n",
            "Epoch 2/10\n",
            "650/650 [==============================] - 2s 2ms/step - loss: 0.1799\n",
            "Epoch 3/10\n",
            "650/650 [==============================] - 1s 2ms/step - loss: 0.1726\n",
            "Epoch 4/10\n",
            "650/650 [==============================] - 2s 2ms/step - loss: 0.1698\n",
            "Epoch 5/10\n",
            "650/650 [==============================] - 2s 2ms/step - loss: 0.1687\n",
            "Epoch 6/10\n",
            "650/650 [==============================] - 1s 2ms/step - loss: 0.1680\n",
            "Epoch 7/10\n",
            "650/650 [==============================] - 1s 2ms/step - loss: 0.1675\n",
            "Epoch 8/10\n",
            "650/650 [==============================] - 2s 3ms/step - loss: 0.1668\n",
            "Epoch 9/10\n",
            "650/650 [==============================] - 2s 3ms/step - loss: 0.1667\n",
            "Epoch 10/10\n",
            "650/650 [==============================] - 2s 2ms/step - loss: 0.1667\n"
          ]
        }
      ],
      "source": [
        "history = model.fit(X_train, y_train, epochs=10, batch_size=64)"
      ]
    },
    {
      "cell_type": "code",
      "execution_count": null,
      "id": "07cb9060",
      "metadata": {
        "id": "07cb9060"
      },
      "outputs": [],
      "source": [
        "from sklearn.metrics import classification_report\n",
        "\n",
        "model.compile(optimizer='rmsprop', loss='KLDivergence')\n",
        "#different loss functions like KLDivergence and Poisson give higher loss values"
      ]
    },
    {
      "cell_type": "code",
      "execution_count": null,
      "id": "3926e409",
      "metadata": {
        "scrolled": true,
        "id": "3926e409",
        "outputId": "83a75417-1d3c-4221-ac02-754248b42104"
      },
      "outputs": [
        {
          "name": "stdout",
          "output_type": "stream",
          "text": [
            "Epoch 1/10\n",
            "650/650 [==============================] - 2s 2ms/step - loss: 4.3352\n",
            "Epoch 2/10\n",
            "650/650 [==============================] - 2s 2ms/step - loss: 4.3352\n",
            "Epoch 3/10\n",
            "650/650 [==============================] - 2s 3ms/step - loss: 4.3352\n",
            "Epoch 4/10\n",
            "650/650 [==============================] - 2s 3ms/step - loss: 4.3352\n",
            "Epoch 5/10\n",
            "650/650 [==============================] - 1s 2ms/step - loss: 4.3352\n",
            "Epoch 6/10\n",
            "650/650 [==============================] - 1s 2ms/step - loss: 4.3352\n",
            "Epoch 7/10\n",
            "650/650 [==============================] - 2s 2ms/step - loss: 4.3352\n",
            "Epoch 8/10\n",
            "650/650 [==============================] - 1s 2ms/step - loss: 4.3352\n",
            "Epoch 9/10\n",
            "650/650 [==============================] - 1s 2ms/step - loss: 4.3352\n",
            "Epoch 10/10\n",
            "650/650 [==============================] - 1s 2ms/step - loss: 4.3352\n"
          ]
        }
      ],
      "source": [
        "history = model.fit(X_train, y_train, epochs=10, batch_size=64)"
      ]
    },
    {
      "cell_type": "code",
      "execution_count": null,
      "id": "7d6e86f6",
      "metadata": {
        "id": "7d6e86f6",
        "outputId": "7548955d-19b2-41e5-9056-81e1403188a7"
      },
      "outputs": [
        {
          "name": "stdout",
          "output_type": "stream",
          "text": [
            "325/325 [==============================] - 1s 1ms/step\n"
          ]
        },
        {
          "data": {
            "text/plain": [
              "array([[0.01053363],\n",
              "       [0.15435018],\n",
              "       [0.9792984 ],\n",
              "       ...,\n",
              "       [0.10038009],\n",
              "       [0.7755334 ],\n",
              "       [0.85761154]], dtype=float32)"
            ]
          },
          "execution_count": 93,
          "metadata": {},
          "output_type": "execute_result"
        }
      ],
      "source": [
        "test_predictions = model.predict(X_test)\n",
        "test_predictions"
      ]
    },
    {
      "cell_type": "code",
      "execution_count": null,
      "id": "676dcb82",
      "metadata": {
        "id": "676dcb82",
        "outputId": "bc84478d-0358-4a7a-e329-66dd27bd2389"
      },
      "outputs": [
        {
          "data": {
            "text/plain": [
              "array([[0.],\n",
              "       [0.],\n",
              "       [1.],\n",
              "       ...,\n",
              "       [0.],\n",
              "       [1.],\n",
              "       [1.]], dtype=float32)"
            ]
          },
          "execution_count": 94,
          "metadata": {},
          "output_type": "execute_result"
        }
      ],
      "source": [
        "pred = np.around(test_predictions)\n",
        "pred"
      ]
    },
    {
      "cell_type": "code",
      "execution_count": null,
      "id": "38ea44a8",
      "metadata": {
        "id": "38ea44a8",
        "outputId": "ac0586ae-72a2-4cb7-d731-0e4871a5cce3"
      },
      "outputs": [
        {
          "name": "stdout",
          "output_type": "stream",
          "text": [
            "              precision    recall  f1-score   support\n",
            "\n",
            "           0       0.95      0.97      0.96      7548\n",
            "           1       0.91      0.86      0.88      2840\n",
            "\n",
            "    accuracy                           0.94     10388\n",
            "   macro avg       0.93      0.91      0.92     10388\n",
            "weighted avg       0.94      0.94      0.94     10388\n",
            "\n"
          ]
        }
      ],
      "source": [
        "#model 1. without tanh and softmax activation functions\n",
        "print(classification_report(y_test, pred))\n"
      ]
    },
    {
      "cell_type": "code",
      "execution_count": null,
      "id": "1407ffbc",
      "metadata": {
        "id": "1407ffbc",
        "outputId": "363025ca-1404-4967-ae92-9cfcbc6238c4"
      },
      "outputs": [
        {
          "name": "stdout",
          "output_type": "stream",
          "text": [
            "              precision    recall  f1-score   support\n",
            "\n",
            "           0       0.96      0.95      0.95      7548\n",
            "           1       0.87      0.88      0.88      2840\n",
            "\n",
            "    accuracy                           0.93     10388\n",
            "   macro avg       0.92      0.92      0.92     10388\n",
            "weighted avg       0.93      0.93      0.93     10388\n",
            "\n"
          ]
        }
      ],
      "source": [
        "#model 2. with tanh activation function\n",
        "print(classification_report(y_test, pred))\n"
      ]
    },
    {
      "cell_type": "code",
      "execution_count": null,
      "id": "8e718910",
      "metadata": {
        "id": "8e718910",
        "outputId": "5fec2613-3bdf-4ef6-b350-b6b7a46faa4c"
      },
      "outputs": [
        {
          "name": "stdout",
          "output_type": "stream",
          "text": [
            "              precision    recall  f1-score   support\n",
            "\n",
            "           0       0.94      0.98      0.96      7548\n",
            "           1       0.93      0.83      0.88      2840\n",
            "\n",
            "    accuracy                           0.94     10388\n",
            "   macro avg       0.93      0.90      0.92     10388\n",
            "weighted avg       0.94      0.94      0.94     10388\n",
            "\n"
          ]
        }
      ],
      "source": [
        "#model 3. with new activation functions. There isn't much difference in scores but model 1 and 2 performs better overall with different activation functions.\n",
        "\n",
        "print(classification_report(y_test, pred))\n"
      ]
    },
    {
      "cell_type": "code",
      "execution_count": null,
      "id": "33baceca",
      "metadata": {
        "id": "33baceca"
      },
      "outputs": [],
      "source": [
        "#neural networks > random forest > logistic regression > linear regression"
      ]
    }
  ],
  "metadata": {
    "kernelspec": {
      "display_name": "Python 3 (ipykernel)",
      "language": "python",
      "name": "python3"
    },
    "language_info": {
      "codemirror_mode": {
        "name": "ipython",
        "version": 3
      },
      "file_extension": ".py",
      "mimetype": "text/x-python",
      "name": "python",
      "nbconvert_exporter": "python",
      "pygments_lexer": "ipython3",
      "version": "3.11.3"
    },
    "colab": {
      "provenance": []
    }
  },
  "nbformat": 4,
  "nbformat_minor": 5
}