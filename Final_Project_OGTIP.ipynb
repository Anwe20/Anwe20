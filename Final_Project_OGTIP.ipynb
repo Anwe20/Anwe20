{
  "cells": [
    {
      "cell_type": "markdown",
      "metadata": {
        "id": "view-in-github",
        "colab_type": "text"
      },
      "source": [
        "<a href=\"https://colab.research.google.com/github/Anwe20/Anwe20/blob/main/Final_Project_OGTIP.ipynb\" target=\"_parent\"><img src=\"https://colab.research.google.com/assets/colab-badge.svg\" alt=\"Open In Colab\"/></a>"
      ]
    },
    {
      "cell_type": "code",
      "execution_count": null,
      "id": "ef1fea1c",
      "metadata": {
        "id": "ef1fea1c"
      },
      "outputs": [],
      "source": [
        "import numpy as np\n",
        "import pandas as pd\n",
        "import seaborn as sns\n",
        "import matplotlib.pyplot as plt\n"
      ]
    },
    {
      "cell_type": "code",
      "execution_count": null,
      "id": "e1494d54",
      "metadata": {
        "id": "e1494d54",
        "outputId": "c955c197-5eb6-4801-9e1f-5fdb9ab6ad17"
      },
      "outputs": [
        {
          "name": "stderr",
          "output_type": "stream",
          "text": [
            "C:\\Users\\Anwesha Mishra\\AppData\\Local\\Temp\\ipykernel_24412\\3249914595.py:2: DtypeWarning: Columns (135,204,274,417) have mixed types. Specify dtype option on import or set low_memory=False.\n",
            "  data_loan_train=pd.read_csv(\"C:/Users/Anwesha Mishra/Downloads/Loan_data/Loan_data/train_v2.csv/train_v2.csv\")\n",
            "C:\\Users\\Anwesha Mishra\\AppData\\Local\\Temp\\ipykernel_24412\\3249914595.py:3: DtypeWarning: Columns (417) have mixed types. Specify dtype option on import or set low_memory=False.\n",
            "  data_loan_test=pd.read_csv(\"C:/Users/Anwesha Mishra/Downloads/Loan_data/Loan_data/test_v2.csv/test_v2.csv\")\n"
          ]
        }
      ],
      "source": [
        "data_loan_train=pd.read_csv(\"C:/Users/Anwesha Mishra/Downloads/Loan_data/Loan_data/train_v2.csv/train_v2.csv\")\n",
        "data_loan_test=pd.read_csv(\"C:/Users/Anwesha Mishra/Downloads/Loan_data/Loan_data/test_v2.csv/test_v2.csv\")"
      ]
    },
    {
      "cell_type": "code",
      "execution_count": null,
      "id": "38823f33",
      "metadata": {
        "id": "38823f33",
        "outputId": "507dd54b-db54-403c-b53f-21fbfa2f9b01"
      },
      "outputs": [
        {
          "data": {
            "text/html": [
              "<div>\n",
              "<style scoped>\n",
              "    .dataframe tbody tr th:only-of-type {\n",
              "        vertical-align: middle;\n",
              "    }\n",
              "\n",
              "    .dataframe tbody tr th {\n",
              "        vertical-align: top;\n",
              "    }\n",
              "\n",
              "    .dataframe thead th {\n",
              "        text-align: right;\n",
              "    }\n",
              "</style>\n",
              "<table border=\"1\" class=\"dataframe\">\n",
              "  <thead>\n",
              "    <tr style=\"text-align: right;\">\n",
              "      <th></th>\n",
              "      <th>id</th>\n",
              "      <th>f1</th>\n",
              "      <th>f2</th>\n",
              "      <th>f3</th>\n",
              "      <th>f4</th>\n",
              "      <th>f5</th>\n",
              "      <th>f6</th>\n",
              "      <th>f7</th>\n",
              "      <th>f8</th>\n",
              "      <th>f9</th>\n",
              "      <th>...</th>\n",
              "      <th>f770</th>\n",
              "      <th>f771</th>\n",
              "      <th>f772</th>\n",
              "      <th>f773</th>\n",
              "      <th>f774</th>\n",
              "      <th>f775</th>\n",
              "      <th>f776</th>\n",
              "      <th>f777</th>\n",
              "      <th>f778</th>\n",
              "      <th>loss</th>\n",
              "    </tr>\n",
              "  </thead>\n",
              "  <tbody>\n",
              "    <tr>\n",
              "      <th>0</th>\n",
              "      <td>1</td>\n",
              "      <td>126</td>\n",
              "      <td>10</td>\n",
              "      <td>0.686842</td>\n",
              "      <td>1100</td>\n",
              "      <td>3</td>\n",
              "      <td>13699</td>\n",
              "      <td>7201.0</td>\n",
              "      <td>4949.0</td>\n",
              "      <td>126.75</td>\n",
              "      <td>...</td>\n",
              "      <td>5</td>\n",
              "      <td>2.14</td>\n",
              "      <td>-1.54</td>\n",
              "      <td>1.18</td>\n",
              "      <td>0.1833</td>\n",
              "      <td>0.7873</td>\n",
              "      <td>1</td>\n",
              "      <td>0</td>\n",
              "      <td>5</td>\n",
              "      <td>0</td>\n",
              "    </tr>\n",
              "    <tr>\n",
              "      <th>1</th>\n",
              "      <td>2</td>\n",
              "      <td>121</td>\n",
              "      <td>10</td>\n",
              "      <td>0.782776</td>\n",
              "      <td>1100</td>\n",
              "      <td>3</td>\n",
              "      <td>84645</td>\n",
              "      <td>240.0</td>\n",
              "      <td>1625.0</td>\n",
              "      <td>123.52</td>\n",
              "      <td>...</td>\n",
              "      <td>6</td>\n",
              "      <td>0.54</td>\n",
              "      <td>-0.24</td>\n",
              "      <td>0.13</td>\n",
              "      <td>0.1926</td>\n",
              "      <td>-0.6787</td>\n",
              "      <td>1</td>\n",
              "      <td>0</td>\n",
              "      <td>5</td>\n",
              "      <td>0</td>\n",
              "    </tr>\n",
              "    <tr>\n",
              "      <th>2</th>\n",
              "      <td>3</td>\n",
              "      <td>126</td>\n",
              "      <td>10</td>\n",
              "      <td>0.500080</td>\n",
              "      <td>1100</td>\n",
              "      <td>3</td>\n",
              "      <td>83607</td>\n",
              "      <td>1800.0</td>\n",
              "      <td>1527.0</td>\n",
              "      <td>127.76</td>\n",
              "      <td>...</td>\n",
              "      <td>13</td>\n",
              "      <td>2.89</td>\n",
              "      <td>-1.73</td>\n",
              "      <td>1.04</td>\n",
              "      <td>0.2521</td>\n",
              "      <td>0.7258</td>\n",
              "      <td>1</td>\n",
              "      <td>0</td>\n",
              "      <td>5</td>\n",
              "      <td>0</td>\n",
              "    </tr>\n",
              "    <tr>\n",
              "      <th>3</th>\n",
              "      <td>4</td>\n",
              "      <td>134</td>\n",
              "      <td>10</td>\n",
              "      <td>0.439874</td>\n",
              "      <td>1100</td>\n",
              "      <td>3</td>\n",
              "      <td>82642</td>\n",
              "      <td>7542.0</td>\n",
              "      <td>1730.0</td>\n",
              "      <td>132.94</td>\n",
              "      <td>...</td>\n",
              "      <td>4</td>\n",
              "      <td>1.29</td>\n",
              "      <td>-0.89</td>\n",
              "      <td>0.66</td>\n",
              "      <td>0.2498</td>\n",
              "      <td>0.7119</td>\n",
              "      <td>1</td>\n",
              "      <td>0</td>\n",
              "      <td>5</td>\n",
              "      <td>0</td>\n",
              "    </tr>\n",
              "    <tr>\n",
              "      <th>4</th>\n",
              "      <td>5</td>\n",
              "      <td>109</td>\n",
              "      <td>9</td>\n",
              "      <td>0.502749</td>\n",
              "      <td>2900</td>\n",
              "      <td>4</td>\n",
              "      <td>79124</td>\n",
              "      <td>89.0</td>\n",
              "      <td>491.0</td>\n",
              "      <td>122.72</td>\n",
              "      <td>...</td>\n",
              "      <td>26</td>\n",
              "      <td>6.11</td>\n",
              "      <td>-3.82</td>\n",
              "      <td>2.51</td>\n",
              "      <td>0.2282</td>\n",
              "      <td>-0.5399</td>\n",
              "      <td>0</td>\n",
              "      <td>0</td>\n",
              "      <td>5</td>\n",
              "      <td>0</td>\n",
              "    </tr>\n",
              "  </tbody>\n",
              "</table>\n",
              "<p>5 rows × 771 columns</p>\n",
              "</div>"
            ],
            "text/plain": [
              "   id   f1  f2        f3    f4  f5     f6      f7      f8      f9  ...  f770  \\\n",
              "0   1  126  10  0.686842  1100   3  13699  7201.0  4949.0  126.75  ...     5   \n",
              "1   2  121  10  0.782776  1100   3  84645   240.0  1625.0  123.52  ...     6   \n",
              "2   3  126  10  0.500080  1100   3  83607  1800.0  1527.0  127.76  ...    13   \n",
              "3   4  134  10  0.439874  1100   3  82642  7542.0  1730.0  132.94  ...     4   \n",
              "4   5  109   9  0.502749  2900   4  79124    89.0   491.0  122.72  ...    26   \n",
              "\n",
              "   f771  f772  f773    f774    f775  f776  f777  f778  loss  \n",
              "0  2.14 -1.54  1.18  0.1833  0.7873     1     0     5     0  \n",
              "1  0.54 -0.24  0.13  0.1926 -0.6787     1     0     5     0  \n",
              "2  2.89 -1.73  1.04  0.2521  0.7258     1     0     5     0  \n",
              "3  1.29 -0.89  0.66  0.2498  0.7119     1     0     5     0  \n",
              "4  6.11 -3.82  2.51  0.2282 -0.5399     0     0     5     0  \n",
              "\n",
              "[5 rows x 771 columns]"
            ]
          },
          "execution_count": 3,
          "metadata": {},
          "output_type": "execute_result"
        }
      ],
      "source": [
        "#f776=loan or not, #f777=fraud or not (the loan can be fraud), these numbers are a result of machine learning technique in order to protect financial information of customers\n",
        "data_loan_train.head()"
      ]
    },
    {
      "cell_type": "code",
      "execution_count": null,
      "id": "4d6c266f",
      "metadata": {
        "id": "4d6c266f",
        "outputId": "84f3b95d-c959-494d-e979-f2a8222bfa1f"
      },
      "outputs": [
        {
          "data": {
            "text/html": [
              "<div>\n",
              "<style scoped>\n",
              "    .dataframe tbody tr th:only-of-type {\n",
              "        vertical-align: middle;\n",
              "    }\n",
              "\n",
              "    .dataframe tbody tr th {\n",
              "        vertical-align: top;\n",
              "    }\n",
              "\n",
              "    .dataframe thead th {\n",
              "        text-align: right;\n",
              "    }\n",
              "</style>\n",
              "<table border=\"1\" class=\"dataframe\">\n",
              "  <thead>\n",
              "    <tr style=\"text-align: right;\">\n",
              "      <th></th>\n",
              "      <th>id</th>\n",
              "      <th>f1</th>\n",
              "      <th>f2</th>\n",
              "      <th>f3</th>\n",
              "      <th>f4</th>\n",
              "      <th>f5</th>\n",
              "      <th>f6</th>\n",
              "      <th>f7</th>\n",
              "      <th>f8</th>\n",
              "      <th>f9</th>\n",
              "      <th>...</th>\n",
              "      <th>f769</th>\n",
              "      <th>f770</th>\n",
              "      <th>f771</th>\n",
              "      <th>f772</th>\n",
              "      <th>f773</th>\n",
              "      <th>f774</th>\n",
              "      <th>f775</th>\n",
              "      <th>f776</th>\n",
              "      <th>f777</th>\n",
              "      <th>f778</th>\n",
              "    </tr>\n",
              "  </thead>\n",
              "  <tbody>\n",
              "    <tr>\n",
              "      <th>0</th>\n",
              "      <td>105472</td>\n",
              "      <td>147</td>\n",
              "      <td>6</td>\n",
              "      <td>0.487058</td>\n",
              "      <td>1100</td>\n",
              "      <td>17.0</td>\n",
              "      <td>75506</td>\n",
              "      <td>964.0</td>\n",
              "      <td>12686.0</td>\n",
              "      <td>152.63</td>\n",
              "      <td>...</td>\n",
              "      <td>-8.71</td>\n",
              "      <td>19</td>\n",
              "      <td>3.30</td>\n",
              "      <td>-9.37</td>\n",
              "      <td>0.50</td>\n",
              "      <td>0.0539</td>\n",
              "      <td>-1.0733</td>\n",
              "      <td>0</td>\n",
              "      <td>1</td>\n",
              "      <td>1079</td>\n",
              "    </tr>\n",
              "    <tr>\n",
              "      <th>1</th>\n",
              "      <td>105473</td>\n",
              "      <td>156</td>\n",
              "      <td>6</td>\n",
              "      <td>0.728518</td>\n",
              "      <td>5400</td>\n",
              "      <td>3.0</td>\n",
              "      <td>79754</td>\n",
              "      <td>1455.0</td>\n",
              "      <td>4803.0</td>\n",
              "      <td>153.95</td>\n",
              "      <td>...</td>\n",
              "      <td>-13.26</td>\n",
              "      <td>24</td>\n",
              "      <td>9.53</td>\n",
              "      <td>-7.55</td>\n",
              "      <td>6.22</td>\n",
              "      <td>0.3030</td>\n",
              "      <td>0.6087</td>\n",
              "      <td>0</td>\n",
              "      <td>1</td>\n",
              "      <td>36</td>\n",
              "    </tr>\n",
              "    <tr>\n",
              "      <th>2</th>\n",
              "      <td>105474</td>\n",
              "      <td>132</td>\n",
              "      <td>9</td>\n",
              "      <td>0.898133</td>\n",
              "      <td>2200</td>\n",
              "      <td>16.0</td>\n",
              "      <td>113</td>\n",
              "      <td>5735.0</td>\n",
              "      <td>2387.0</td>\n",
              "      <td>130.61</td>\n",
              "      <td>...</td>\n",
              "      <td>-4.99</td>\n",
              "      <td>9</td>\n",
              "      <td>3.25</td>\n",
              "      <td>-2.33</td>\n",
              "      <td>1.69</td>\n",
              "      <td>0.2317</td>\n",
              "      <td>0.4184</td>\n",
              "      <td>0</td>\n",
              "      <td>0</td>\n",
              "      <td>393</td>\n",
              "    </tr>\n",
              "    <tr>\n",
              "      <th>3</th>\n",
              "      <td>105475</td>\n",
              "      <td>128</td>\n",
              "      <td>7</td>\n",
              "      <td>0.038411</td>\n",
              "      <td>1300</td>\n",
              "      <td>4.0</td>\n",
              "      <td>3793</td>\n",
              "      <td>4689.0</td>\n",
              "      <td>3469.0</td>\n",
              "      <td>120.50</td>\n",
              "      <td>...</td>\n",
              "      <td>-16.83</td>\n",
              "      <td>11</td>\n",
              "      <td>0.26</td>\n",
              "      <td>-5.31</td>\n",
              "      <td>0.78</td>\n",
              "      <td>0.2826</td>\n",
              "      <td>-0.7711</td>\n",
              "      <td>0</td>\n",
              "      <td>0</td>\n",
              "      <td>394</td>\n",
              "    </tr>\n",
              "    <tr>\n",
              "      <th>4</th>\n",
              "      <td>105476</td>\n",
              "      <td>119</td>\n",
              "      <td>10</td>\n",
              "      <td>0.443620</td>\n",
              "      <td>1300</td>\n",
              "      <td>16.0</td>\n",
              "      <td>13026</td>\n",
              "      <td>2788.0</td>\n",
              "      <td>7438.0</td>\n",
              "      <td>127.00</td>\n",
              "      <td>...</td>\n",
              "      <td>-20.00</td>\n",
              "      <td>10</td>\n",
              "      <td>13.55</td>\n",
              "      <td>-0.61</td>\n",
              "      <td>0.01</td>\n",
              "      <td>0.1815</td>\n",
              "      <td>-1.0843</td>\n",
              "      <td>0</td>\n",
              "      <td>0</td>\n",
              "      <td>23</td>\n",
              "    </tr>\n",
              "  </tbody>\n",
              "</table>\n",
              "<p>5 rows × 770 columns</p>\n",
              "</div>"
            ],
            "text/plain": [
              "       id   f1  f2        f3    f4    f5     f6      f7       f8      f9  ...  \\\n",
              "0  105472  147   6  0.487058  1100  17.0  75506   964.0  12686.0  152.63  ...   \n",
              "1  105473  156   6  0.728518  5400   3.0  79754  1455.0   4803.0  153.95  ...   \n",
              "2  105474  132   9  0.898133  2200  16.0    113  5735.0   2387.0  130.61  ...   \n",
              "3  105475  128   7  0.038411  1300   4.0   3793  4689.0   3469.0  120.50  ...   \n",
              "4  105476  119  10  0.443620  1300  16.0  13026  2788.0   7438.0  127.00  ...   \n",
              "\n",
              "    f769  f770   f771  f772  f773    f774    f775  f776  f777  f778  \n",
              "0  -8.71    19   3.30 -9.37  0.50  0.0539 -1.0733     0     1  1079  \n",
              "1 -13.26    24   9.53 -7.55  6.22  0.3030  0.6087     0     1    36  \n",
              "2  -4.99     9   3.25 -2.33  1.69  0.2317  0.4184     0     0   393  \n",
              "3 -16.83    11   0.26 -5.31  0.78  0.2826 -0.7711     0     0   394  \n",
              "4 -20.00    10  13.55 -0.61  0.01  0.1815 -1.0843     0     0    23  \n",
              "\n",
              "[5 rows x 770 columns]"
            ]
          },
          "execution_count": 4,
          "metadata": {},
          "output_type": "execute_result"
        }
      ],
      "source": [
        "data_loan_test.head()"
      ]
    },
    {
      "cell_type": "code",
      "execution_count": null,
      "id": "4bd2fa87",
      "metadata": {
        "id": "4bd2fa87",
        "outputId": "45edf16a-c5f3-48e1-dd83-40e83284c077"
      },
      "outputs": [
        {
          "data": {
            "text/plain": [
              "id         0\n",
              "f1         0\n",
              "f2         0\n",
              "f3         0\n",
              "f4         0\n",
              "        ... \n",
              "f775    1525\n",
              "f776       0\n",
              "f777       0\n",
              "f778       0\n",
              "loss       0\n",
              "Length: 771, dtype: int64"
            ]
          },
          "execution_count": 5,
          "metadata": {},
          "output_type": "execute_result"
        }
      ],
      "source": [
        "#check for missing values\n",
        "data_loan_train.isnull().sum()"
      ]
    },
    {
      "cell_type": "code",
      "execution_count": null,
      "id": "f41851df",
      "metadata": {
        "scrolled": true,
        "id": "f41851df",
        "outputId": "2fc2aadd-56bf-451b-a8d4-2934c2214f0c"
      },
      "outputs": [
        {
          "data": {
            "text/plain": [
              "id         0\n",
              "f1         0\n",
              "f2         0\n",
              "f3         0\n",
              "f4         0\n",
              "        ... \n",
              "f774    2066\n",
              "f775    2960\n",
              "f776       0\n",
              "f777       0\n",
              "f778       0\n",
              "Length: 770, dtype: int64"
            ]
          },
          "execution_count": 7,
          "metadata": {},
          "output_type": "execute_result"
        }
      ],
      "source": [
        "data_loan_test.isnull().sum()"
      ]
    },
    {
      "cell_type": "code",
      "execution_count": null,
      "id": "21d57825",
      "metadata": {
        "id": "21d57825"
      },
      "outputs": [],
      "source": [
        "#drop missing values\n",
        "data_loan_tr=data_loan_train.dropna()\n",
        "data_loan_te=data_loan_test.dropna()"
      ]
    },
    {
      "cell_type": "code",
      "execution_count": null,
      "id": "38413488",
      "metadata": {
        "id": "38413488",
        "outputId": "384510c4-da1b-42d7-a5a4-8ac3d79c4a2d"
      },
      "outputs": [
        {
          "data": {
            "text/plain": [
              "id      0\n",
              "f1      0\n",
              "f2      0\n",
              "f3      0\n",
              "f4      0\n",
              "       ..\n",
              "f775    0\n",
              "f776    0\n",
              "f777    0\n",
              "f778    0\n",
              "loss    0\n",
              "Length: 771, dtype: int64"
            ]
          },
          "execution_count": 7,
          "metadata": {},
          "output_type": "execute_result"
        }
      ],
      "source": [
        "data_loan_tr.isnull().sum()"
      ]
    },
    {
      "cell_type": "code",
      "execution_count": null,
      "id": "a188ec52",
      "metadata": {
        "id": "a188ec52",
        "outputId": "9618ec35-9406-4d8e-93e6-e0691f0e5ba9"
      },
      "outputs": [
        {
          "data": {
            "text/plain": [
              "id      0\n",
              "f1      0\n",
              "f2      0\n",
              "f3      0\n",
              "f4      0\n",
              "       ..\n",
              "f774    0\n",
              "f775    0\n",
              "f776    0\n",
              "f777    0\n",
              "f778    0\n",
              "Length: 770, dtype: int64"
            ]
          },
          "execution_count": 8,
          "metadata": {},
          "output_type": "execute_result"
        }
      ],
      "source": [
        "data_loan_te.isnull().sum()"
      ]
    },
    {
      "cell_type": "code",
      "execution_count": null,
      "id": "ee2fede7",
      "metadata": {
        "id": "ee2fede7",
        "outputId": "58650d56-ba34-4ec2-e33d-0a45212b4582"
      },
      "outputs": [
        {
          "name": "stdout",
          "output_type": "stream",
          "text": [
            "There were 37924 legal transactions (73.02%) and 14016 fraud transactions (26.98%).\n"
          ]
        }
      ],
      "source": [
        "number = data_loan_tr.f777.value_counts()\n",
        "legal = number[0]\n",
        "fraud = number[1]\n",
        "legal_perc = (legal/(legal+fraud))*100\n",
        "fraud_perc = (fraud/(legal+fraud))*100\n",
        "print(\"There were {} legal transactions ({:.2f}%) and {} fraud transactions ({:.2f}%).\".format(legal, legal_perc, fraud, fraud_perc))"
      ]
    },
    {
      "cell_type": "code",
      "execution_count": null,
      "id": "7afbed6d",
      "metadata": {
        "id": "7afbed6d",
        "outputId": "47a3ec38-aa00-4531-b26e-9c669deb8090"
      },
      "outputs": [
        {
          "data": {
            "image/png": "[encoded data removed]",
            "text/plain": [
              "<Figure size 640x480 with 1 Axes>"
            ]
          },
          "metadata": {},
          "output_type": "display_data"
        }
      ],
      "source": [
        "plt.scatter(data_loan_tr['id'], data_loan_tr['loss'])\n",
        "plt.xlabel('ID')\n",
        "plt.ylabel('Loss')\n",
        "plt.title('Plot Showing Distribution of Loss with ID')\n",
        "plt.show()"
      ]
    },
    {
      "cell_type": "code",
      "execution_count": null,
      "id": "6dcc43ca",
      "metadata": {
        "id": "6dcc43ca"
      },
      "outputs": [],
      "source": [
        "#combine datasets for train_test_split using sklearn\n",
        "df = pd.concat([data_loan_te, data_loan_tr])"
      ]
    },
    {
      "cell_type": "code",
      "execution_count": null,
      "id": "c47219f1",
      "metadata": {
        "id": "c47219f1"
      },
      "outputs": [],
      "source": [
        "data=df.dropna()"
      ]
    },
    {
      "cell_type": "code",
      "execution_count": null,
      "id": "4812b2b8",
      "metadata": {
        "id": "4812b2b8"
      },
      "outputs": [],
      "source": [
        "#split the dataset into X and y for train test split\n",
        "def prep_data(df: pd.DataFrame) -> (np.ndarray, np.ndarray):\n",
        "    X = df.iloc[:, 2:30].values #select a few columns\n",
        "    y = df.f777.values #fraud or not\n",
        "    return X, y"
      ]
    },
    {
      "cell_type": "code",
      "execution_count": null,
      "id": "e811fe82",
      "metadata": {
        "id": "e811fe82"
      },
      "outputs": [],
      "source": [
        "# Create X and y from the prep_data function\n",
        "X, y = prep_data(data)"
      ]
    },
    {
      "cell_type": "code",
      "execution_count": null,
      "id": "826bf5fc",
      "metadata": {
        "id": "826bf5fc"
      },
      "outputs": [],
      "source": [
        "from sklearn.linear_model import LinearRegression\n",
        "model = LinearRegression()"
      ]
    },
    {
      "cell_type": "code",
      "execution_count": null,
      "id": "f530699b",
      "metadata": {
        "id": "f530699b"
      },
      "outputs": [],
      "source": [
        "from sklearn.model_selection import train_test_split\n",
        "X_train, X_test, y_train, y_test = train_test_split(X, y, test_size=0.2)"
      ]
    },
    {
      "cell_type": "code",
      "execution_count": null,
      "id": "57d46398",
      "metadata": {
        "id": "57d46398",
        "outputId": "7e1acb78-6181-46e2-ac41-a85932377870"
      },
      "outputs": [
        {
          "data": {
            "text/html": [
              "<style>#sk-container-id-1 {color: black;background-color: white;}#sk-container-id-1 pre{padding: 0;}#sk-container-id-1 div.sk-toggleable {background-color: white;}#sk-container-id-1 label.sk-toggleable__label {cursor: pointer;display: block;width: 100%;margin-bottom: 0;padding: 0.3em;box-sizing: border-box;text-align: center;}#sk-container-id-1 label.sk-toggleable__label-arrow:before {content: \"▸\";float: left;margin-right: 0.25em;color: #696969;}#sk-container-id-1 label.sk-toggleable__label-arrow:hover:before {color: black;}#sk-container-id-1 div.sk-estimator:hover label.sk-toggleable__label-arrow:before {color: black;}#sk-container-id-1 div.sk-toggleable__content {max-height: 0;max-width: 0;overflow: hidden;text-align: left;background-color: #f0f8ff;}#sk-container-id-1 div.sk-toggleable__content pre {margin: 0.2em;color: black;border-radius: 0.25em;background-color: #f0f8ff;}#sk-container-id-1 input.sk-toggleable__control:checked~div.sk-toggleable__content {max-height: 200px;max-width: 100%;overflow: auto;}#sk-container-id-1 input.sk-toggleable__control:checked~label.sk-toggleable__label-arrow:before {content: \"▾\";}#sk-container-id-1 div.sk-estimator input.sk-toggleable__control:checked~label.sk-toggleable__label {background-color: #d4ebff;}#sk-container-id-1 div.sk-label input.sk-toggleable__control:checked~label.sk-toggleable__label {background-color: #d4ebff;}#sk-container-id-1 input.sk-hidden--visually {border: 0;clip: rect(1px 1px 1px 1px);clip: rect(1px, 1px, 1px, 1px);height: 1px;margin: -1px;overflow: hidden;padding: 0;position: absolute;width: 1px;}#sk-container-id-1 div.sk-estimator {font-family: monospace;background-color: #f0f8ff;border: 1px dotted black;border-radius: 0.25em;box-sizing: border-box;margin-bottom: 0.5em;}#sk-container-id-1 div.sk-estimator:hover {background-color: #d4ebff;}#sk-container-id-1 div.sk-parallel-item::after {content: \"\";width: 100%;border-bottom: 1px solid gray;flex-grow: 1;}#sk-container-id-1 div.sk-label:hover label.sk-toggleable__label {background-color: #d4ebff;}#sk-container-id-1 div.sk-serial::before {content: \"\";position: absolute;border-left: 1px solid gray;box-sizing: border-box;top: 0;bottom: 0;left: 50%;z-index: 0;}#sk-container-id-1 div.sk-serial {display: flex;flex-direction: column;align-items: center;background-color: white;padding-right: 0.2em;padding-left: 0.2em;position: relative;}#sk-container-id-1 div.sk-item {position: relative;z-index: 1;}#sk-container-id-1 div.sk-parallel {display: flex;align-items: stretch;justify-content: center;background-color: white;position: relative;}#sk-container-id-1 div.sk-item::before, #sk-container-id-1 div.sk-parallel-item::before {content: \"\";position: absolute;border-left: 1px solid gray;box-sizing: border-box;top: 0;bottom: 0;left: 50%;z-index: -1;}#sk-container-id-1 div.sk-parallel-item {display: flex;flex-direction: column;z-index: 1;position: relative;background-color: white;}#sk-container-id-1 div.sk-parallel-item:first-child::after {align-self: flex-end;width: 50%;}#sk-container-id-1 div.sk-parallel-item:last-child::after {align-self: flex-start;width: 50%;}#sk-container-id-1 div.sk-parallel-item:only-child::after {width: 0;}#sk-container-id-1 div.sk-dashed-wrapped {border: 1px dashed gray;margin: 0 0.4em 0.5em 0.4em;box-sizing: border-box;padding-bottom: 0.4em;background-color: white;}#sk-container-id-1 div.sk-label label {font-family: monospace;font-weight: bold;display: inline-block;line-height: 1.2em;}#sk-container-id-1 div.sk-label-container {text-align: center;}#sk-container-id-1 div.sk-container {/* jupyter's `normalize.less` sets `[hidden] { display: none; }` but bootstrap.min.css set `[hidden] { display: none !important; }` so we also need the `!important` here to be able to override the default hidden behavior on the sphinx rendered scikit-learn.org. See: https://github.com/scikit-learn/scikit-learn/issues/21755 */display: inline-block !important;position: relative;}#sk-container-id-1 div.sk-text-repr-fallback {display: none;}</style><div id=\"sk-container-id-1\" class=\"sk-top-container\"><div class=\"sk-text-repr-fallback\"><pre>LinearRegression()</pre><b>In a Jupyter environment, please rerun this cell to show the HTML representation or trust the notebook. <br />On GitHub, the HTML representation is unable to render, please try loading this page with nbviewer.org.</b></div><div class=\"sk-container\" hidden><div class=\"sk-item\"><div class=\"sk-estimator sk-toggleable\"><input class=\"sk-toggleable__control sk-hidden--visually\" id=\"sk-estimator-id-1\" type=\"checkbox\" checked><label for=\"sk-estimator-id-1\" class=\"sk-toggleable__label sk-toggleable__label-arrow\">LinearRegression</label><div class=\"sk-toggleable__content\"><pre>LinearRegression()</pre></div></div></div></div></div>"
            ],
            "text/plain": [
              "LinearRegression()"
            ]
          },
          "execution_count": 23,
          "metadata": {},
          "output_type": "execute_result"
        }
      ],
      "source": [
        "model.fit(X_train, y_train)"
      ]
    },
    {
      "cell_type": "code",
      "execution_count": null,
      "id": "9a2b50ab",
      "metadata": {
        "id": "9a2b50ab"
      },
      "outputs": [],
      "source": [
        "y_predicted = model.predict(X_test)\n"
      ]
    },
    {
      "cell_type": "code",
      "execution_count": null,
      "id": "948c43fd",
      "metadata": {
        "id": "948c43fd",
        "outputId": "e76fb8dd-b493-46c3-e9d4-9641fe66fd5d"
      },
      "outputs": [
        {
          "data": {
            "text/plain": [
              "0.9708487163573869"
            ]
          },
          "execution_count": 25,
          "metadata": {},
          "output_type": "execute_result"
        }
      ],
      "source": [
        "from sklearn.metrics import r2_score\n",
        "r2_score(y_test, y_predicted)"
      ]
    },
    {
      "cell_type": "code",
      "execution_count": null,
      "id": "7d93cc3d",
      "metadata": {
        "id": "7d93cc3d",
        "outputId": "867219aa-e173-4b7d-c47b-406406942fba"
      },
      "outputs": [
        {
          "data": {
            "text/html": [
              "<style>#sk-container-id-2 {color: black;background-color: white;}#sk-container-id-2 pre{padding: 0;}#sk-container-id-2 div.sk-toggleable {background-color: white;}#sk-container-id-2 label.sk-toggleable__label {cursor: pointer;display: block;width: 100%;margin-bottom: 0;padding: 0.3em;box-sizing: border-box;text-align: center;}#sk-container-id-2 label.sk-toggleable__label-arrow:before {content: \"▸\";float: left;margin-right: 0.25em;color: #696969;}#sk-container-id-2 label.sk-toggleable__label-arrow:hover:before {color: black;}#sk-container-id-2 div.sk-estimator:hover label.sk-toggleable__label-arrow:before {color: black;}#sk-container-id-2 div.sk-toggleable__content {max-height: 0;max-width: 0;overflow: hidden;text-align: left;background-color: #f0f8ff;}#sk-container-id-2 div.sk-toggleable__content pre {margin: 0.2em;color: black;border-radius: 0.25em;background-color: #f0f8ff;}#sk-container-id-2 input.sk-toggleable__control:checked~div.sk-toggleable__content {max-height: 200px;max-width: 100%;overflow: auto;}#sk-container-id-2 input.sk-toggleable__control:checked~label.sk-toggleable__label-arrow:before {content: \"▾\";}#sk-container-id-2 div.sk-estimator input.sk-toggleable__control:checked~label.sk-toggleable__label {background-color: #d4ebff;}#sk-container-id-2 div.sk-label input.sk-toggleable__control:checked~label.sk-toggleable__label {background-color: #d4ebff;}#sk-container-id-2 input.sk-hidden--visually {border: 0;clip: rect(1px 1px 1px 1px);clip: rect(1px, 1px, 1px, 1px);height: 1px;margin: -1px;overflow: hidden;padding: 0;position: absolute;width: 1px;}#sk-container-id-2 div.sk-estimator {font-family: monospace;background-color: #f0f8ff;border: 1px dotted black;border-radius: 0.25em;box-sizing: border-box;margin-bottom: 0.5em;}#sk-container-id-2 div.sk-estimator:hover {background-color: #d4ebff;}#sk-container-id-2 div.sk-parallel-item::after {content: \"\";width: 100%;border-bottom: 1px solid gray;flex-grow: 1;}#sk-container-id-2 div.sk-label:hover label.sk-toggleable__label {background-color: #d4ebff;}#sk-container-id-2 div.sk-serial::before {content: \"\";position: absolute;border-left: 1px solid gray;box-sizing: border-box;top: 0;bottom: 0;left: 50%;z-index: 0;}#sk-container-id-2 div.sk-serial {display: flex;flex-direction: column;align-items: center;background-color: white;padding-right: 0.2em;padding-left: 0.2em;position: relative;}#sk-container-id-2 div.sk-item {position: relative;z-index: 1;}#sk-container-id-2 div.sk-parallel {display: flex;align-items: stretch;justify-content: center;background-color: white;position: relative;}#sk-container-id-2 div.sk-item::before, #sk-container-id-2 div.sk-parallel-item::before {content: \"\";position: absolute;border-left: 1px solid gray;box-sizing: border-box;top: 0;bottom: 0;left: 50%;z-index: -1;}#sk-container-id-2 div.sk-parallel-item {display: flex;flex-direction: column;z-index: 1;position: relative;background-color: white;}#sk-container-id-2 div.sk-parallel-item:first-child::after {align-self: flex-end;width: 50%;}#sk-container-id-2 div.sk-parallel-item:last-child::after {align-self: flex-start;width: 50%;}#sk-container-id-2 div.sk-parallel-item:only-child::after {width: 0;}#sk-container-id-2 div.sk-dashed-wrapped {border: 1px dashed gray;margin: 0 0.4em 0.5em 0.4em;box-sizing: border-box;padding-bottom: 0.4em;background-color: white;}#sk-container-id-2 div.sk-label label {font-family: monospace;font-weight: bold;display: inline-block;line-height: 1.2em;}#sk-container-id-2 div.sk-label-container {text-align: center;}#sk-container-id-2 div.sk-container {/* jupyter's `normalize.less` sets `[hidden] { display: none; }` but bootstrap.min.css set `[hidden] { display: none !important; }` so we also need the `!important` here to be able to override the default hidden behavior on the sphinx rendered scikit-learn.org. See: https://github.com/scikit-learn/scikit-learn/issues/21755 */display: inline-block !important;position: relative;}#sk-container-id-2 div.sk-text-repr-fallback {display: none;}</style><div id=\"sk-container-id-2\" class=\"sk-top-container\"><div class=\"sk-text-repr-fallback\"><pre>LogisticRegression(solver=&#x27;liblinear&#x27;)</pre><b>In a Jupyter environment, please rerun this cell to show the HTML representation or trust the notebook. <br />On GitHub, the HTML representation is unable to render, please try loading this page with nbviewer.org.</b></div><div class=\"sk-container\" hidden><div class=\"sk-item\"><div class=\"sk-estimator sk-toggleable\"><input class=\"sk-toggleable__control sk-hidden--visually\" id=\"sk-estimator-id-2\" type=\"checkbox\" checked><label for=\"sk-estimator-id-2\" class=\"sk-toggleable__label sk-toggleable__label-arrow\">LogisticRegression</label><div class=\"sk-toggleable__content\"><pre>LogisticRegression(solver=&#x27;liblinear&#x27;)</pre></div></div></div></div></div>"
            ],
            "text/plain": [
              "LogisticRegression(solver='liblinear')"
            ]
          },
          "execution_count": 26,
          "metadata": {},
          "output_type": "execute_result"
        }
      ],
      "source": [
        "from sklearn.linear_model import LogisticRegression\n",
        "model_log = LogisticRegression(solver='liblinear')\n",
        "model_log.fit(X_train, y_train)"
      ]
    },
    {
      "cell_type": "code",
      "execution_count": null,
      "id": "f86485d4",
      "metadata": {
        "id": "f86485d4",
        "outputId": "27b8c289-132e-4fe4-aadd-1fba99c14850"
      },
      "outputs": [
        {
          "data": {
            "text/plain": [
              "0.8677122542888531"
            ]
          },
          "execution_count": 27,
          "metadata": {},
          "output_type": "execute_result"
        }
      ],
      "source": [
        "predicted = model_log.predict(X_test)\n",
        "r2_score(y_test, predicted)\n",
        "#linear regression is better than logistic regression"
      ]
    },
    {
      "cell_type": "code",
      "execution_count": null,
      "id": "a499e9f5",
      "metadata": {
        "id": "a499e9f5",
        "outputId": "ba85da70-f1cd-413d-e5f8-d22e8931048b"
      },
      "outputs": [
        {
          "data": {
            "text/html": [
              "<style>#sk-container-id-3 {color: black;background-color: white;}#sk-container-id-3 pre{padding: 0;}#sk-container-id-3 div.sk-toggleable {background-color: white;}#sk-container-id-3 label.sk-toggleable__label {cursor: pointer;display: block;width: 100%;margin-bottom: 0;padding: 0.3em;box-sizing: border-box;text-align: center;}#sk-container-id-3 label.sk-toggleable__label-arrow:before {content: \"▸\";float: left;margin-right: 0.25em;color: #696969;}#sk-container-id-3 label.sk-toggleable__label-arrow:hover:before {color: black;}#sk-container-id-3 div.sk-estimator:hover label.sk-toggleable__label-arrow:before {color: black;}#sk-container-id-3 div.sk-toggleable__content {max-height: 0;max-width: 0;overflow: hidden;text-align: left;background-color: #f0f8ff;}#sk-container-id-3 div.sk-toggleable__content pre {margin: 0.2em;color: black;border-radius: 0.25em;background-color: #f0f8ff;}#sk-container-id-3 input.sk-toggleable__control:checked~div.sk-toggleable__content {max-height: 200px;max-width: 100%;overflow: auto;}#sk-container-id-3 input.sk-toggleable__control:checked~label.sk-toggleable__label-arrow:before {content: \"▾\";}#sk-container-id-3 div.sk-estimator input.sk-toggleable__control:checked~label.sk-toggleable__label {background-color: #d4ebff;}#sk-container-id-3 div.sk-label input.sk-toggleable__control:checked~label.sk-toggleable__label {background-color: #d4ebff;}#sk-container-id-3 input.sk-hidden--visually {border: 0;clip: rect(1px 1px 1px 1px);clip: rect(1px, 1px, 1px, 1px);height: 1px;margin: -1px;overflow: hidden;padding: 0;position: absolute;width: 1px;}#sk-container-id-3 div.sk-estimator {font-family: monospace;background-color: #f0f8ff;border: 1px dotted black;border-radius: 0.25em;box-sizing: border-box;margin-bottom: 0.5em;}#sk-container-id-3 div.sk-estimator:hover {background-color: #d4ebff;}#sk-container-id-3 div.sk-parallel-item::after {content: \"\";width: 100%;border-bottom: 1px solid gray;flex-grow: 1;}#sk-container-id-3 div.sk-label:hover label.sk-toggleable__label {background-color: #d4ebff;}#sk-container-id-3 div.sk-serial::before {content: \"\";position: absolute;border-left: 1px solid gray;box-sizing: border-box;top: 0;bottom: 0;left: 50%;z-index: 0;}#sk-container-id-3 div.sk-serial {display: flex;flex-direction: column;align-items: center;background-color: white;padding-right: 0.2em;padding-left: 0.2em;position: relative;}#sk-container-id-3 div.sk-item {position: relative;z-index: 1;}#sk-container-id-3 div.sk-parallel {display: flex;align-items: stretch;justify-content: center;background-color: white;position: relative;}#sk-container-id-3 div.sk-item::before, #sk-container-id-3 div.sk-parallel-item::before {content: \"\";position: absolute;border-left: 1px solid gray;box-sizing: border-box;top: 0;bottom: 0;left: 50%;z-index: -1;}#sk-container-id-3 div.sk-parallel-item {display: flex;flex-direction: column;z-index: 1;position: relative;background-color: white;}#sk-container-id-3 div.sk-parallel-item:first-child::after {align-self: flex-end;width: 50%;}#sk-container-id-3 div.sk-parallel-item:last-child::after {align-self: flex-start;width: 50%;}#sk-container-id-3 div.sk-parallel-item:only-child::after {width: 0;}#sk-container-id-3 div.sk-dashed-wrapped {border: 1px dashed gray;margin: 0 0.4em 0.5em 0.4em;box-sizing: border-box;padding-bottom: 0.4em;background-color: white;}#sk-container-id-3 div.sk-label label {font-family: monospace;font-weight: bold;display: inline-block;line-height: 1.2em;}#sk-container-id-3 div.sk-label-container {text-align: center;}#sk-container-id-3 div.sk-container {/* jupyter's `normalize.less` sets `[hidden] { display: none; }` but bootstrap.min.css set `[hidden] { display: none !important; }` so we also need the `!important` here to be able to override the default hidden behavior on the sphinx rendered scikit-learn.org. See: https://github.com/scikit-learn/scikit-learn/issues/21755 */display: inline-block !important;position: relative;}#sk-container-id-3 div.sk-text-repr-fallback {display: none;}</style><div id=\"sk-container-id-3\" class=\"sk-top-container\"><div class=\"sk-text-repr-fallback\"><pre>RandomForestClassifier(max_depth=2, random_state=0)</pre><b>In a Jupyter environment, please rerun this cell to show the HTML representation or trust the notebook. <br />On GitHub, the HTML representation is unable to render, please try loading this page with nbviewer.org.</b></div><div class=\"sk-container\" hidden><div class=\"sk-item\"><div class=\"sk-estimator sk-toggleable\"><input class=\"sk-toggleable__control sk-hidden--visually\" id=\"sk-estimator-id-3\" type=\"checkbox\" checked><label for=\"sk-estimator-id-3\" class=\"sk-toggleable__label sk-toggleable__label-arrow\">RandomForestClassifier</label><div class=\"sk-toggleable__content\"><pre>RandomForestClassifier(max_depth=2, random_state=0)</pre></div></div></div></div></div>"
            ],
            "text/plain": [
              "RandomForestClassifier(max_depth=2, random_state=0)"
            ]
          },
          "execution_count": 28,
          "metadata": {},
          "output_type": "execute_result"
        }
      ],
      "source": [
        "from sklearn.ensemble import RandomForestClassifier\n",
        "model_rfc=RandomForestClassifier(max_depth=2, random_state=0)\n",
        "model_rfc.fit(X_train, y_train)"
      ]
    },
    {
      "cell_type": "code",
      "execution_count": null,
      "id": "48663fc8",
      "metadata": {
        "id": "48663fc8",
        "outputId": "35a1019c-b0af-44fb-8ff0-32025767fddc"
      },
      "outputs": [
        {
          "data": {
            "text/plain": [
              "0.9850331382589578"
            ]
          },
          "execution_count": 29,
          "metadata": {},
          "output_type": "execute_result"
        }
      ],
      "source": [
        "predicted = model_rfc.predict(X_test)\n",
        "r2_score(y_test, predicted)"
      ]
    },
    {
      "cell_type": "code",
      "execution_count": null,
      "id": "1814b798",
      "metadata": {
        "id": "1814b798"
      },
      "outputs": [],
      "source": [
        "#standardise data\n",
        "mean = np.mean(X_train)\n",
        "std = np.std(X_train)\n",
        "X_train -= mean\n",
        "X_train /= std\n",
        "X_test -= mean\n",
        "X_test /= std"
      ]
    },
    {
      "cell_type": "code",
      "execution_count": null,
      "id": "d671e81a",
      "metadata": {
        "id": "d671e81a"
      },
      "outputs": [],
      "source": [
        "#create neural network\n",
        "from keras import models, layers\n",
        "model = models.Sequential() #sequential neural network\n",
        "model.add(layers.Dense(10, input_shape=(X_train.shape[1],), activation='relu'))\n",
        "model.add(layers.Dense(8, activation='relu'))\n",
        "model.add(layers.Dense(6, activation='softmax'))\n",
        "model.add(layers.Dense(6, activation='tanh'))\n",
        "model.add(layers.Dense(1, activation='sigmoid'))"
      ]
    },
    {
      "cell_type": "code",
      "execution_count": null,
      "id": "768b6a5a",
      "metadata": {
        "id": "768b6a5a"
      },
      "outputs": [],
      "source": [
        "from sklearn.metrics import classification_report\n",
        "\n",
        "model.compile(optimizer='rmsprop', loss='binary_crossentropy')"
      ]
    },
    {
      "cell_type": "code",
      "execution_count": null,
      "id": "07cb9060",
      "metadata": {
        "id": "07cb9060"
      },
      "outputs": [],
      "source": [
        "from sklearn.metrics import classification_report\n",
        "\n",
        "model.compile(optimizer='rmsprop', loss='KLDivergence')\n",
        "#different loss functions like KLDivergence and Poisson give higher loss values"
      ]
    },
    {
      "cell_type": "code",
      "execution_count": null,
      "id": "3926e409",
      "metadata": {
        "scrolled": true,
        "id": "3926e409",
        "outputId": "bdbed2e4-ba82-4fa4-aa14-99de6e5612c0"
      },
      "outputs": [
        {
          "name": "stdout",
          "output_type": "stream",
          "text": [
            "Epoch 1/10\n",
            "650/650 [==============================] - 4s 3ms/step - loss: 0.0296\n",
            "Epoch 2/10\n",
            "650/650 [==============================] - 2s 3ms/step - loss: 1.5521e-04\n",
            "Epoch 3/10\n",
            "650/650 [==============================] - 2s 3ms/step - loss: 4.5225e-05\n",
            "Epoch 4/10\n",
            "650/650 [==============================] - 2s 3ms/step - loss: 2.6598e-05\n",
            "Epoch 5/10\n",
            "650/650 [==============================] - 2s 3ms/step - loss: 1.8703e-05\n",
            "Epoch 6/10\n",
            "650/650 [==============================] - 2s 4ms/step - loss: 1.4310e-05\n",
            "Epoch 7/10\n",
            "650/650 [==============================] - 2s 4ms/step - loss: 1.1510e-05\n",
            "Epoch 8/10\n",
            "650/650 [==============================] - 2s 3ms/step - loss: 9.5718e-06\n",
            "Epoch 9/10\n",
            "650/650 [==============================] - 2s 3ms/step - loss: 8.1466e-06\n",
            "Epoch 10/10\n",
            "650/650 [==============================] - 2s 3ms/step - loss: 7.0557e-06\n"
          ]
        }
      ],
      "source": [
        "history = model.fit(X_train, y_train, epochs=10, batch_size=64)"
      ]
    },
    {
      "cell_type": "code",
      "execution_count": null,
      "id": "7d6e86f6",
      "metadata": {
        "id": "7d6e86f6",
        "outputId": "ad5644df-364e-43b2-bfea-1b9013d37edd"
      },
      "outputs": [
        {
          "name": "stdout",
          "output_type": "stream",
          "text": [
            "325/325 [==============================] - 1s 3ms/step\n"
          ]
        },
        {
          "data": {
            "text/plain": [
              "array([[0.9999654 ],\n",
              "       [0.99996614],\n",
              "       [0.99996144],\n",
              "       ...,\n",
              "       [0.99997133],\n",
              "       [0.99996996],\n",
              "       [0.99996245]], dtype=float32)"
            ]
          },
          "execution_count": 35,
          "metadata": {},
          "output_type": "execute_result"
        }
      ],
      "source": [
        "test_predictions = model.predict(X_test)\n",
        "test_predictions"
      ]
    },
    {
      "cell_type": "code",
      "execution_count": null,
      "id": "676dcb82",
      "metadata": {
        "id": "676dcb82",
        "outputId": "5b12ca17-5dd8-4ab0-910b-652760a1acae"
      },
      "outputs": [
        {
          "data": {
            "text/plain": [
              "array([[1.],\n",
              "       [1.],\n",
              "       [1.],\n",
              "       ...,\n",
              "       [1.],\n",
              "       [1.],\n",
              "       [1.]], dtype=float32)"
            ]
          },
          "execution_count": 36,
          "metadata": {},
          "output_type": "execute_result"
        }
      ],
      "source": [
        "pred = np.around(test_predictions)\n",
        "pred"
      ]
    },
    {
      "cell_type": "code",
      "execution_count": null,
      "id": "38ea44a8",
      "metadata": {
        "id": "38ea44a8",
        "outputId": "244abb59-0a3f-490b-9d6e-9a90db0226a7"
      },
      "outputs": [
        {
          "name": "stdout",
          "output_type": "stream",
          "text": [
            "              precision    recall  f1-score   support\n",
            "\n",
            "           0       0.00      0.00      0.00      7531\n",
            "           1       0.28      1.00      0.43      2857\n",
            "\n",
            "    accuracy                           0.28     10388\n",
            "   macro avg       0.14      0.50      0.22     10388\n",
            "weighted avg       0.08      0.28      0.12     10388\n",
            "\n"
          ]
        },
        {
          "name": "stderr",
          "output_type": "stream",
          "text": [
            "C:\\Users\\Anwesha Mishra\\anaconda3\\Lib\\site-packages\\sklearn\\metrics\\_classification.py:1344: UndefinedMetricWarning: Precision and F-score are ill-defined and being set to 0.0 in labels with no predicted samples. Use `zero_division` parameter to control this behavior.\n",
            "  _warn_prf(average, modifier, msg_start, len(result))\n",
            "C:\\Users\\Anwesha Mishra\\anaconda3\\Lib\\site-packages\\sklearn\\metrics\\_classification.py:1344: UndefinedMetricWarning: Precision and F-score are ill-defined and being set to 0.0 in labels with no predicted samples. Use `zero_division` parameter to control this behavior.\n",
            "  _warn_prf(average, modifier, msg_start, len(result))\n",
            "C:\\Users\\Anwesha Mishra\\anaconda3\\Lib\\site-packages\\sklearn\\metrics\\_classification.py:1344: UndefinedMetricWarning: Precision and F-score are ill-defined and being set to 0.0 in labels with no predicted samples. Use `zero_division` parameter to control this behavior.\n",
            "  _warn_prf(average, modifier, msg_start, len(result))\n"
          ]
        }
      ],
      "source": [
        "print(classification_report(y_test, pred))"
      ]
    }
  ],
  "metadata": {
    "kernelspec": {
      "display_name": "Python 3 (ipykernel)",
      "language": "python",
      "name": "python3"
    },
    "language_info": {
      "codemirror_mode": {
        "name": "ipython",
        "version": 3
      },
      "file_extension": ".py",
      "mimetype": "text/x-python",
      "name": "python",
      "nbconvert_exporter": "python",
      "pygments_lexer": "ipython3",
      "version": "3.11.3"
    },
    "colab": {
      "provenance": [],
      "include_colab_link": true
    }
  },
  "nbformat": 4,
  "nbformat_minor": 5
}